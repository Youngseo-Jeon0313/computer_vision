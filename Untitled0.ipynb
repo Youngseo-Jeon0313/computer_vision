{
  "nbformat": 4,
  "nbformat_minor": 0,
  "metadata": {
    "colab": {
      "name": "Untitled0.ipynb",
      "provenance": [],
      "authorship_tag": "ABX9TyO7PN1Aptp+a5FbAtQ9Qg5p",
      "include_colab_link": true
    },
    "kernelspec": {
      "name": "python3",
      "display_name": "Python 3"
    },
    "language_info": {
      "name": "python"
    }
  },
  "cells": [
    {
      "cell_type": "markdown",
      "metadata": {
        "id": "view-in-github",
        "colab_type": "text"
      },
      "source": [
        "<a href=\"https://colab.research.google.com/github/Youngseo-Jeon0313/computer_vision/blob/main/Untitled0.ipynb\" target=\"_parent\"><img src=\"https://colab.research.google.com/assets/colab-badge.svg\" alt=\"Open In Colab\"/></a>"
      ]
    },
    {
      "cell_type": "code",
      "execution_count": null,
      "metadata": {
        "id": "nXkjbapu7kDr"
      },
      "outputs": [],
      "source": [
        "import json\n",
        "\n",
        "with open('DATASET/train/cow_label/livestock_cow_bbox_000001.json', 'r') as f:\n",
        "\tjson_data = json.load(f)\n",
        "\t\n",
        "label_info = json_data['label_info']\n",
        "\n",
        "image_name = label_info['image']['file_name'] # 이미지 파일명\n",
        "image_width = label_info['image']['width'] # 이미지 넓이\n",
        "image_height = label_info['image']['height'] # 이미지 높이\n",
        "\n",
        "annotations =  label_info['annotations']\n",
        "for annot in annotations:\n",
        "\tx1, y1, x2, y2 = annot['bbox'] # 객체 1개의 bbox 위치 좌표"
      ]
    }
  ]
}