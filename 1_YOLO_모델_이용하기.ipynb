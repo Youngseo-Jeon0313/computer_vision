{
  "nbformat": 4,
  "nbformat_minor": 0,
  "metadata": {
    "colab": {
      "name": "1.YOLO 모델 이용하기",
      "provenance": [],
      "mount_file_id": "1vPAVDAUDRzJwl8XUXzkFwkDGYEkYGEQy",
      "authorship_tag": "ABX9TyO5Wpndn99aIFj0s+MqFZXQ",
      "include_colab_link": true
    },
    "kernelspec": {
      "name": "python3",
      "display_name": "Python 3"
    },
    "language_info": {
      "name": "python"
    }
  },
  "cells": [
    {
      "cell_type": "markdown",
      "metadata": {
        "id": "view-in-github",
        "colab_type": "text"
      },
      "source": [
        "<a href=\"https://colab.research.google.com/github/Youngseo-Jeon0313/computer_vision/blob/main/1_YOLO_%EB%AA%A8%EB%8D%B8_%EC%9D%B4%EC%9A%A9%ED%95%98%EA%B8%B0.ipynb\" target=\"_parent\"><img src=\"https://colab.research.google.com/assets/colab-badge.svg\" alt=\"Open In Colab\"/></a>"
      ]
    },
    {
      "cell_type": "code",
      "source": [
        "from google.colab import drive \n",
        "drive.mount('/content/gdrive/')\n"
      ],
      "metadata": {
        "id": "ns0-ykaNVogf",
        "colab": {
          "base_uri": "https://localhost:8080/"
        },
        "outputId": "0c3cad6d-ab9b-47dc-8c07-9108a7f4e73a"
      },
      "execution_count": null,
      "outputs": [
        {
          "output_type": "stream",
          "name": "stdout",
          "text": [
            "Mounted at /content/gdrive/\n"
          ]
        }
      ]
    },
    {
      "cell_type": "code",
      "source": [
        "%cd /content/yolov5/\n",
        "!pip install -r requirements.txt"
      ],
      "metadata": {
        "colab": {
          "base_uri": "https://localhost:8080/"
        },
        "id": "v7V6xQRFOBcw",
        "outputId": "27f8985b-e2a3-48da-b4a0-e9fc8369edfc"
      },
      "execution_count": null,
      "outputs": [
        {
          "output_type": "stream",
          "name": "stdout",
          "text": [
            "/content/yolov5\n",
            "Requirement already satisfied: matplotlib>=3.2.2 in /usr/local/lib/python3.7/dist-packages (from -r requirements.txt (line 4)) (3.2.2)\n",
            "Requirement already satisfied: numpy>=1.18.5 in /usr/local/lib/python3.7/dist-packages (from -r requirements.txt (line 5)) (1.19.5)\n",
            "Requirement already satisfied: opencv-python>=4.1.2 in /usr/local/lib/python3.7/dist-packages (from -r requirements.txt (line 6)) (4.1.2.30)\n",
            "Requirement already satisfied: Pillow>=7.1.2 in /usr/local/lib/python3.7/dist-packages (from -r requirements.txt (line 7)) (7.1.2)\n",
            "Requirement already satisfied: PyYAML>=5.3.1 in /usr/local/lib/python3.7/dist-packages (from -r requirements.txt (line 8)) (6.0)\n",
            "Requirement already satisfied: requests>=2.23.0 in /usr/local/lib/python3.7/dist-packages (from -r requirements.txt (line 9)) (2.23.0)\n",
            "Requirement already satisfied: scipy>=1.4.1 in /usr/local/lib/python3.7/dist-packages (from -r requirements.txt (line 10)) (1.4.1)\n",
            "Requirement already satisfied: torch>=1.7.0 in /usr/local/lib/python3.7/dist-packages (from -r requirements.txt (line 11)) (1.10.0+cu111)\n",
            "Requirement already satisfied: torchvision>=0.8.1 in /usr/local/lib/python3.7/dist-packages (from -r requirements.txt (line 12)) (0.11.1+cu111)\n",
            "Requirement already satisfied: tqdm>=4.41.0 in /usr/local/lib/python3.7/dist-packages (from -r requirements.txt (line 13)) (4.62.3)\n",
            "Requirement already satisfied: tensorboard>=2.4.1 in /usr/local/lib/python3.7/dist-packages (from -r requirements.txt (line 16)) (2.7.0)\n",
            "Requirement already satisfied: pandas>=1.1.4 in /usr/local/lib/python3.7/dist-packages (from -r requirements.txt (line 20)) (1.1.5)\n",
            "Requirement already satisfied: seaborn>=0.11.0 in /usr/local/lib/python3.7/dist-packages (from -r requirements.txt (line 21)) (0.11.2)\n",
            "Requirement already satisfied: thop in /usr/local/lib/python3.7/dist-packages (from -r requirements.txt (line 37)) (0.0.31.post2005241907)\n",
            "Requirement already satisfied: pyparsing!=2.0.4,!=2.1.2,!=2.1.6,>=2.0.1 in /usr/local/lib/python3.7/dist-packages (from matplotlib>=3.2.2->-r requirements.txt (line 4)) (3.0.7)\n",
            "Requirement already satisfied: kiwisolver>=1.0.1 in /usr/local/lib/python3.7/dist-packages (from matplotlib>=3.2.2->-r requirements.txt (line 4)) (1.3.2)\n",
            "Requirement already satisfied: cycler>=0.10 in /usr/local/lib/python3.7/dist-packages (from matplotlib>=3.2.2->-r requirements.txt (line 4)) (0.11.0)\n",
            "Requirement already satisfied: python-dateutil>=2.1 in /usr/local/lib/python3.7/dist-packages (from matplotlib>=3.2.2->-r requirements.txt (line 4)) (2.8.2)\n",
            "Requirement already satisfied: idna<3,>=2.5 in /usr/local/lib/python3.7/dist-packages (from requests>=2.23.0->-r requirements.txt (line 9)) (2.10)\n",
            "Requirement already satisfied: chardet<4,>=3.0.2 in /usr/local/lib/python3.7/dist-packages (from requests>=2.23.0->-r requirements.txt (line 9)) (3.0.4)\n",
            "Requirement already satisfied: certifi>=2017.4.17 in /usr/local/lib/python3.7/dist-packages (from requests>=2.23.0->-r requirements.txt (line 9)) (2021.10.8)\n",
            "Requirement already satisfied: urllib3!=1.25.0,!=1.25.1,<1.26,>=1.21.1 in /usr/local/lib/python3.7/dist-packages (from requests>=2.23.0->-r requirements.txt (line 9)) (1.24.3)\n",
            "Requirement already satisfied: typing-extensions in /usr/local/lib/python3.7/dist-packages (from torch>=1.7.0->-r requirements.txt (line 11)) (3.10.0.2)\n",
            "Requirement already satisfied: werkzeug>=0.11.15 in /usr/local/lib/python3.7/dist-packages (from tensorboard>=2.4.1->-r requirements.txt (line 16)) (1.0.1)\n",
            "Requirement already satisfied: protobuf>=3.6.0 in /usr/local/lib/python3.7/dist-packages (from tensorboard>=2.4.1->-r requirements.txt (line 16)) (3.17.3)\n",
            "Requirement already satisfied: google-auth-oauthlib<0.5,>=0.4.1 in /usr/local/lib/python3.7/dist-packages (from tensorboard>=2.4.1->-r requirements.txt (line 16)) (0.4.6)\n",
            "Requirement already satisfied: tensorboard-plugin-wit>=1.6.0 in /usr/local/lib/python3.7/dist-packages (from tensorboard>=2.4.1->-r requirements.txt (line 16)) (1.8.1)\n",
            "Requirement already satisfied: grpcio>=1.24.3 in /usr/local/lib/python3.7/dist-packages (from tensorboard>=2.4.1->-r requirements.txt (line 16)) (1.43.0)\n",
            "Requirement already satisfied: absl-py>=0.4 in /usr/local/lib/python3.7/dist-packages (from tensorboard>=2.4.1->-r requirements.txt (line 16)) (1.0.0)\n",
            "Requirement already satisfied: markdown>=2.6.8 in /usr/local/lib/python3.7/dist-packages (from tensorboard>=2.4.1->-r requirements.txt (line 16)) (3.3.6)\n",
            "Requirement already satisfied: tensorboard-data-server<0.7.0,>=0.6.0 in /usr/local/lib/python3.7/dist-packages (from tensorboard>=2.4.1->-r requirements.txt (line 16)) (0.6.1)\n",
            "Requirement already satisfied: setuptools>=41.0.0 in /usr/local/lib/python3.7/dist-packages (from tensorboard>=2.4.1->-r requirements.txt (line 16)) (57.4.0)\n",
            "Requirement already satisfied: google-auth<3,>=1.6.3 in /usr/local/lib/python3.7/dist-packages (from tensorboard>=2.4.1->-r requirements.txt (line 16)) (1.35.0)\n",
            "Requirement already satisfied: wheel>=0.26 in /usr/local/lib/python3.7/dist-packages (from tensorboard>=2.4.1->-r requirements.txt (line 16)) (0.37.1)\n",
            "Requirement already satisfied: pytz>=2017.2 in /usr/local/lib/python3.7/dist-packages (from pandas>=1.1.4->-r requirements.txt (line 20)) (2018.9)\n",
            "Requirement already satisfied: six in /usr/local/lib/python3.7/dist-packages (from absl-py>=0.4->tensorboard>=2.4.1->-r requirements.txt (line 16)) (1.15.0)\n",
            "Requirement already satisfied: cachetools<5.0,>=2.0.0 in /usr/local/lib/python3.7/dist-packages (from google-auth<3,>=1.6.3->tensorboard>=2.4.1->-r requirements.txt (line 16)) (4.2.4)\n",
            "Requirement already satisfied: pyasn1-modules>=0.2.1 in /usr/local/lib/python3.7/dist-packages (from google-auth<3,>=1.6.3->tensorboard>=2.4.1->-r requirements.txt (line 16)) (0.2.8)\n",
            "Requirement already satisfied: rsa<5,>=3.1.4 in /usr/local/lib/python3.7/dist-packages (from google-auth<3,>=1.6.3->tensorboard>=2.4.1->-r requirements.txt (line 16)) (4.8)\n",
            "Requirement already satisfied: requests-oauthlib>=0.7.0 in /usr/local/lib/python3.7/dist-packages (from google-auth-oauthlib<0.5,>=0.4.1->tensorboard>=2.4.1->-r requirements.txt (line 16)) (1.3.0)\n",
            "Requirement already satisfied: importlib-metadata>=4.4 in /usr/local/lib/python3.7/dist-packages (from markdown>=2.6.8->tensorboard>=2.4.1->-r requirements.txt (line 16)) (4.10.1)\n",
            "Requirement already satisfied: zipp>=0.5 in /usr/local/lib/python3.7/dist-packages (from importlib-metadata>=4.4->markdown>=2.6.8->tensorboard>=2.4.1->-r requirements.txt (line 16)) (3.7.0)\n",
            "Requirement already satisfied: pyasn1<0.5.0,>=0.4.6 in /usr/local/lib/python3.7/dist-packages (from pyasn1-modules>=0.2.1->google-auth<3,>=1.6.3->tensorboard>=2.4.1->-r requirements.txt (line 16)) (0.4.8)\n",
            "Requirement already satisfied: oauthlib>=3.0.0 in /usr/local/lib/python3.7/dist-packages (from requests-oauthlib>=0.7.0->google-auth-oauthlib<0.5,>=0.4.1->tensorboard>=2.4.1->-r requirements.txt (line 16)) (3.1.1)\n"
          ]
        }
      ]
    },
    {
      "cell_type": "code",
      "source": [
        "%cd /content\n",
        "!git clone https://github.com/ultralytics/yolov5.git"
      ],
      "metadata": {
        "colab": {
          "base_uri": "https://localhost:8080/"
        },
        "id": "2Sekl7GhN-AV",
        "outputId": "8485a88b-9ade-44d8-9fcd-51702a96fc41"
      },
      "execution_count": null,
      "outputs": [
        {
          "output_type": "stream",
          "name": "stdout",
          "text": [
            "/content\n",
            "fatal: destination path 'yolov5' already exists and is not an empty directory.\n"
          ]
        }
      ]
    },
    {
      "cell_type": "code",
      "source": [
        "import torch\n",
        "from yolov5 import utils\n",
        "display = utils.notebook_init()  # checks"
      ],
      "metadata": {
        "colab": {
          "base_uri": "https://localhost:8080/"
        },
        "id": "6C7UrLx42rSl",
        "outputId": "38617bc7-4df4-4800-9b68-0e6ee2638b23"
      },
      "execution_count": null,
      "outputs": [
        {
          "output_type": "stream",
          "name": "stderr",
          "text": [
            "YOLOv5 🚀 v6.0-218-g7539cd7 torch 1.10.0+cu111 CPU\n"
          ]
        },
        {
          "output_type": "stream",
          "name": "stdout",
          "text": [
            "Setup complete ✅ (2 CPUs, 12.7 GB RAM, 42.0/107.7 GB disk)\n"
          ]
        }
      ]
    },
    {
      "cell_type": "code",
      "source": [
        "!apt install fonts-namu -y\n",
        "\n",
        "import matplotlib\n",
        "import matplotlib.pyplot as plt\n",
        "import matplotlib.font_manager as fm\n",
        "\n",
        "#한글 폰트 설정하기\n",
        "fontpath = '/usr/share/fonts/truetype/nanum/NanumBarunGothic.ttf'\n",
        "font = fm.FontProperties(fname=fontpath, size=10)\n",
        "plt.rc('font', family='NanumBarunGothic')\n",
        "matplotlib.font_manager._rebuild()"
      ],
      "metadata": {
        "colab": {
          "base_uri": "https://localhost:8080/"
        },
        "id": "u61akaxnwt1B",
        "outputId": "00504ba2-e148-499e-d26e-ce654677b142"
      },
      "execution_count": null,
      "outputs": [
        {
          "output_type": "stream",
          "name": "stdout",
          "text": [
            "Reading package lists... Done\n",
            "Building dependency tree       \n",
            "Reading state information... Done\n",
            "E: Unable to locate package fonts-namu\n"
          ]
        },
        {
          "output_type": "stream",
          "name": "stderr",
          "text": [
            "generated new fontManager\n"
          ]
        }
      ]
    },
    {
      "cell_type": "markdown",
      "source": [
        "### 1. 학습이미지 수집\n",
        "  수집한 이미지를 저장하기 위한 폴더를 생성하고 필요한 함수를 정의해야 한다.\n",
        "\n",
        "  #os.path와 관련된 다양한 조작 코드 참조\n",
        "  https://docs.python.org/ko/3/library/os.path.html\n",
        "\n",
        "  #shutil-고수준 파일 연산 관련 파일\n",
        "  https://docs.python.org/ko/3/library/shutil.html"
      ],
      "metadata": {
        "id": "u90SSuxhyhlg"
      }
    },
    {
      "cell_type": "code",
      "source": [
        "import os\n",
        "import shutil\n",
        "\n",
        "directory_list = [\n",
        "    './custom_dataset/train/',\n",
        "    './custom_dataset/test/',\n",
        "]\n",
        "\n",
        "# 초기 디렉토리 만들기\n",
        "for directory in directory_list:\n",
        "    if not os.path.isdir(directory):\n",
        "        os.makedirs(directory)\n",
        "\n",
        "# 수집한 이미지를 학습 데이터와 평가 데이터로 구분하는 함수\n",
        "def dataset_split(query, train_cnt):\n",
        "    # 학습 및 평가 데이터셋 디렉토리 만들기\n",
        "    for directory in directory_list:\n",
        "        if not os.path.isdir(directory + '/' + query):\n",
        "            os.makedirs(directory + '/' + query)\n",
        "    # 학습 및 평가 데이터셋 준비하기\n",
        "    cnt = 0\n",
        "    for file_name in os.listdir(query):\n",
        "        if cnt < train_cnt:\n",
        "            print(f'[Train Dataset] {file_name}')\n",
        "            shutil.move(query + '/' + file_name, './custom_dataset/train/' + query + '/' + file_name)\n",
        "        else:\n",
        "            print(f'[Test Dataset] {file_name}')\n",
        "            shutil.move(query + '/' + file_name, './custom_dataset/test/' + query + '/' + file_name)\n",
        "        cnt += 1\n",
        "    shutil.rmtree(query)"
      ],
      "metadata": {
        "id": "vaoRyFk0yxaX"
      },
      "execution_count": 37,
      "outputs": []
    },
    {
      "cell_type": "markdown",
      "source": [
        "##이미지 가져오기\n"
      ],
      "metadata": {
        "id": "3kDY2_Y_3t0R"
      }
    },
    {
      "cell_type": "markdown",
      "source": [
        "###우리가 가진 data의 내용 확인해보기\n",
        "일단 보니까 bounding box가 여러개 있고, 그에 따른 category_id가 정해져있음을 알 수 있음"
      ],
      "metadata": {
        "id": "da1Jn91K7e4R"
      }
    },
    {
      "cell_type": "code",
      "source": [
        "%cat /content/dataset/labels/livestock_cow_bbox_000001.txt"
      ],
      "metadata": {
        "colab": {
          "base_uri": "https://localhost:8080/"
        },
        "id": "jvaehX166q-H",
        "outputId": "cc40fef3-735d-4f15-8f39-7fb8668b5043"
      },
      "execution_count": 22,
      "outputs": [
        {
          "output_type": "stream",
          "name": "stdout",
          "text": [
            "1 0.246354 0.496296 0.338934 0.627318\n",
            "1 0.825000 0.468519 0.882383 0.626418\n",
            "1 0.881771 0.506481 0.983395 0.735642\n",
            "1 0.520833 0.398148 0.577854 0.512594\n"
          ]
        }
      ]
    },
    {
      "cell_type": "code",
      "source": [
        "%cat /content/dataset/livestock_data.yaml"
      ],
      "metadata": {
        "colab": {
          "base_uri": "https://localhost:8080/"
        },
        "id": "GlpwmErje6nT",
        "outputId": "c078bafb-7935-4772-d09e-7bafb3d2f022"
      },
      "execution_count": 23,
      "outputs": [
        {
          "output_type": "stream",
          "name": "stdout",
          "text": [
            "names:\n",
            "- pig\n",
            "- cow\n",
            "nc: 2\n",
            "train: /content/dataset/train.txt\n",
            "val: /content/dataset/val.txt\n"
          ]
        }
      ]
    },
    {
      "cell_type": "code",
      "source": [
        "%cd /\n",
        "#glob을 이용해서 dir에 있는 * 또는 ? 파일들을 불러오는 역할을 함\n",
        "from glob import glob \n",
        "img_list= glob('/content/dataset/images/livestock_*.jpg')\n",
        "\n",
        "print(len(img_list))"
      ],
      "metadata": {
        "colab": {
          "base_uri": "https://localhost:8080/"
        },
        "id": "EjSp_zOL7vBk",
        "outputId": "c04d32d2-60f5-4888-c386-f4edeba2bf51"
      },
      "execution_count": 24,
      "outputs": [
        {
          "output_type": "stream",
          "name": "stdout",
          "text": [
            "/\n",
            "200\n"
          ]
        }
      ]
    },
    {
      "cell_type": "markdown",
      "source": [
        "###배열 또는 행렬을 무작위 학습 및 테스트 하위 집합으로 분할시키는 코드이다. 참고!!\n",
        "\n",
        "https://scikit-learn.org/stable/modules/generated/sklearn.model_selection.train_test_split.html"
      ],
      "metadata": {
        "id": "8oisz2qhA7G2"
      }
    },
    {
      "cell_type": "code",
      "source": [
        "#이제 트레이닝 세트와 테스트셋으로 나눕니다.\n",
        "from sklearn.model_selection import train_test_split \n",
        "\n",
        "train_img_list, val_img_list = train_test_split(img_list, test_size=0.2, random_state=20)\n",
        "\n",
        "print(len(train_img_list), len(val_img_list))"
      ],
      "metadata": {
        "colab": {
          "base_uri": "https://localhost:8080/"
        },
        "id": "JIelC-71_sbw",
        "outputId": "e54fb03f-318c-4312-cc18-f47e86746ee6"
      },
      "execution_count": 25,
      "outputs": [
        {
          "output_type": "stream",
          "name": "stdout",
          "text": [
            "160 40\n"
          ]
        }
      ]
    },
    {
      "cell_type": "code",
      "source": [
        "with open('/content/dataset/train.txt','w') as f:\n",
        "  f.write('\\n'.join(train_img_list)+'\\n')\n",
        "\n",
        "with open('/content/dataset/val.txt','w') as f:\n",
        "  f.write('\\n'.join(val_img_list)+'\\n')\n",
        "\n",
        "\n",
        "\n",
        "#자 이렇게 하면 나눠졌어여!!\n"
      ],
      "metadata": {
        "id": "ex361XxX_u5r"
      },
      "execution_count": 26,
      "outputs": []
    },
    {
      "cell_type": "markdown",
      "source": [
        "data yaml파일에는 클래스 이름들과 클래스 개수 그리고 train과 valid set의 주소가 적혀있다. ..여기에 이걸 잘 넣어주어야 함!"
      ],
      "metadata": {
        "id": "mIErP52aHuyj"
      }
    },
    {
      "cell_type": "code",
      "source": [
        "import yaml\n",
        "\n",
        "with open('/content/dataset/data.yaml','r') as f:\n",
        "  data=yaml.load(f)\n",
        "\n",
        "print(data)\n",
        "data['train']='/content/dataset/train.txt'\n",
        "data['val']='/content/dataset/val.txt'\n",
        "\n",
        "with open('/content/dataset/livestock_data.yaml', 'w') as f:\n",
        "  yaml.dump(data,f)\n",
        "\n",
        "print(data)"
      ],
      "metadata": {
        "colab": {
          "base_uri": "https://localhost:8080/"
        },
        "id": "17x6S_EcjvJT",
        "outputId": "8cd14007-af6d-4aae-cc1e-6876915462ff"
      },
      "execution_count": 27,
      "outputs": [
        {
          "output_type": "stream",
          "name": "stdout",
          "text": [
            "{'train': '/content/dataset/train.txt', 'val': '/content/dataset/val.txt', 'nc': 2, 'names': ['pig', 'cow']}\n",
            "{'train': '/content/dataset/train.txt', 'val': '/content/dataset/val.txt', 'nc': 2, 'names': ['pig', 'cow']}\n"
          ]
        },
        {
          "output_type": "stream",
          "name": "stderr",
          "text": [
            "/usr/local/lib/python3.7/dist-packages/ipykernel_launcher.py:4: YAMLLoadWarning: calling yaml.load() without Loader=... is deprecated, as the default Loader is unsafe. Please read https://msg.pyyaml.org/load for full details.\n",
            "  after removing the cwd from sys.path.\n"
          ]
        }
      ]
    },
    {
      "cell_type": "code",
      "source": [
        "import json\n",
        "\n",
        "for i in range(1,101):\n",
        "    num = str(i).zfill(4)\n",
        "    with open('/content/dataset/images/livestock_cow_bbox_00' + num + '.json', 'r') as f:\n",
        "        json_data = json.load(f)\n",
        "        label_info = json_data['label_info']\n",
        "\n",
        "        image_name = label_info['image']['file_name'] # 이미지 파일명\n",
        "        image_width = label_info['image']['width'] # 이미지 넓이\n",
        "        image_height = label_info['image']['height'] # 이미지 높이\n",
        "        annotations =  label_info['annotations']\n",
        "        image_name = image_name.replace(\".jpg\", \"\")\n",
        "        file = open(\"/content/dataset/labels/\"+image_name + \".txt\", \"w\")\n",
        "        for annot in annotations:\n",
        "            x1, y1, x2, y2 = annot['bbox'] # 객체 1개의 bbox 위치 좌표\n",
        "            x1 = x1/image_width\n",
        "            y1 = y1/image_height\n",
        "            x2 = (x2-x1)/image_width\n",
        "            y2 = (y2-y1)/image_height\n",
        "            file.write(f\"1 {x1:f} {y1:f} {x2:f} {y2:f}\\n\")\n",
        "        file.close()\n"
      ],
      "metadata": {
        "id": "0SYQfnhwBamc"
      },
      "execution_count": 28,
      "outputs": []
    },
    {
      "cell_type": "code",
      "source": [
        "import json\n",
        "\n",
        "for i in range(1,101):\n",
        "    num = str(i).zfill(4)\n",
        "    with open('/content/dataset/images/livestock_pig_bbox_00' + num + '.json', 'r') as f:\n",
        "        json_data = json.load(f)\n",
        "        label_info = json_data['label_info']\n",
        "\n",
        "        image_name = label_info['image']['file_name'] # 이미지 파일명\n",
        "        image_width = label_info['image']['width'] # 이미지 넓이\n",
        "        image_height = label_info['image']['height'] # 이미지 높이\n",
        "        annotations =  label_info['annotations']\n",
        "        image_name = image_name.replace(\".jpg\", \"\")\n",
        "        file = open(\"/content/dataset/labels/\"+image_name + \".txt\", \"w\")\n",
        "        for annot in annotations:\n",
        "            x1, y1, x2, y2 = annot['bbox'] # 객체 1개의 bbox 위치 좌표\n",
        "            x1 = x1/image_width\n",
        "            y1 = y1/image_height\n",
        "            x2 = (x2-x1)/image_width\n",
        "            y2 = (y2-y1)/image_height\n",
        "            file.write(f\"0 {x1:f} {y1:f} {x2:f} {y2:f}\\n\")\n",
        "        file.close()"
      ],
      "metadata": {
        "id": "dL9ElfVknOMm"
      },
      "execution_count": 20,
      "outputs": []
    },
    {
      "cell_type": "code",
      "source": [
        "%cd /content/yolov5/\n",
        "\n",
        "\n",
        "!python train.py --img 40 --batch 16 --epochs 10 --data /content/dataset/livestock_data.yaml --cfg ./models/yolov5s.yaml --weights yolov5s.pt --name yolov5_results\n"
      ],
      "metadata": {
        "colab": {
          "base_uri": "https://localhost:8080/"
        },
        "id": "nJJS1-FWM_gA",
        "outputId": "ccebdd51-e72c-40df-86fa-3714ea73c1ed"
      },
      "execution_count": null,
      "outputs": [
        {
          "output_type": "stream",
          "name": "stdout",
          "text": [
            "/content/yolov5\n",
            "\u001b[34m\u001b[1mtrain: \u001b[0mweights=yolov5s.pt, cfg=./models/yolov5s.yaml, data=/content/dataset/livestock_data.yaml, hyp=data/hyps/hyp.scratch.yaml, epochs=10, batch_size=16, imgsz=40, rect=False, resume=False, nosave=False, noval=False, noautoanchor=False, evolve=None, bucket=, cache=None, image_weights=False, device=, multi_scale=False, single_cls=False, optimizer=SGD, sync_bn=False, workers=8, project=runs/train, name=yolov5_results, exist_ok=False, quad=False, linear_lr=False, label_smoothing=0.0, patience=100, freeze=[0], save_period=-1, local_rank=-1, entity=None, upload_dataset=False, bbox_interval=-1, artifact_alias=latest\n",
            "\u001b[34m\u001b[1mgithub: \u001b[0mup to date with https://github.com/ultralytics/yolov5 ✅\n",
            "YOLOv5 🚀 v6.0-218-g7539cd7 torch 1.10.0+cu111 CPU\n",
            "\n",
            "\u001b[34m\u001b[1mhyperparameters: \u001b[0mlr0=0.01, lrf=0.1, momentum=0.937, weight_decay=0.0005, warmup_epochs=3.0, warmup_momentum=0.8, warmup_bias_lr=0.1, box=0.05, cls=0.5, cls_pw=1.0, obj=1.0, obj_pw=1.0, iou_t=0.2, anchor_t=4.0, fl_gamma=0.0, hsv_h=0.015, hsv_s=0.7, hsv_v=0.4, degrees=0.0, translate=0.1, scale=0.5, shear=0.0, perspective=0.0, flipud=0.0, fliplr=0.5, mosaic=1.0, mixup=0.0, copy_paste=0.0\n",
            "\u001b[34m\u001b[1mWeights & Biases: \u001b[0mrun 'pip install wandb' to automatically track and visualize YOLOv5 🚀 runs (RECOMMENDED)\n",
            "\u001b[34m\u001b[1mTensorBoard: \u001b[0mStart with 'tensorboard --logdir runs/train', view at http://localhost:6006/\n",
            "Overriding model.yaml nc=80 with nc=2\n",
            "\n",
            "                 from  n    params  module                                  arguments                     \n",
            "  0                -1  1      3520  models.common.Conv                      [3, 32, 6, 2, 2]              \n",
            "  1                -1  1     18560  models.common.Conv                      [32, 64, 3, 2]                \n",
            "  2                -1  1     18816  models.common.C3                        [64, 64, 1]                   \n",
            "  3                -1  1     73984  models.common.Conv                      [64, 128, 3, 2]               \n",
            "  4                -1  2    115712  models.common.C3                        [128, 128, 2]                 \n",
            "  5                -1  1    295424  models.common.Conv                      [128, 256, 3, 2]              \n",
            "  6                -1  3    625152  models.common.C3                        [256, 256, 3]                 \n",
            "  7                -1  1   1180672  models.common.Conv                      [256, 512, 3, 2]              \n",
            "  8                -1  1   1182720  models.common.C3                        [512, 512, 1]                 \n",
            "  9                -1  1    656896  models.common.SPPF                      [512, 512, 5]                 \n",
            " 10                -1  1    131584  models.common.Conv                      [512, 256, 1, 1]              \n",
            " 11                -1  1         0  torch.nn.modules.upsampling.Upsample    [None, 2, 'nearest']          \n",
            " 12           [-1, 6]  1         0  models.common.Concat                    [1]                           \n",
            " 13                -1  1    361984  models.common.C3                        [512, 256, 1, False]          \n",
            " 14                -1  1     33024  models.common.Conv                      [256, 128, 1, 1]              \n",
            " 15                -1  1         0  torch.nn.modules.upsampling.Upsample    [None, 2, 'nearest']          \n",
            " 16           [-1, 4]  1         0  models.common.Concat                    [1]                           \n",
            " 17                -1  1     90880  models.common.C3                        [256, 128, 1, False]          \n",
            " 18                -1  1    147712  models.common.Conv                      [128, 128, 3, 2]              \n",
            " 19          [-1, 14]  1         0  models.common.Concat                    [1]                           \n",
            " 20                -1  1    296448  models.common.C3                        [256, 256, 1, False]          \n",
            " 21                -1  1    590336  models.common.Conv                      [256, 256, 3, 2]              \n",
            " 22          [-1, 10]  1         0  models.common.Concat                    [1]                           \n",
            " 23                -1  1   1182720  models.common.C3                        [512, 512, 1, False]          \n",
            " 24      [17, 20, 23]  1     18879  models.yolo.Detect                      [2, [[10, 13, 16, 30, 33, 23], [30, 61, 62, 45, 59, 119], [116, 90, 156, 198, 373, 326]], [128, 256, 512]]\n",
            "Model Summary: 270 layers, 7025023 parameters, 7025023 gradients, 15.9 GFLOPs\n",
            "\n",
            "Transferred 342/349 items from yolov5s.pt\n",
            "WARNING: --img-size 40 must be multiple of max stride 32, updating to 64\n",
            "Scaled weight_decay = 0.0005\n",
            "\u001b[34m\u001b[1moptimizer:\u001b[0m SGD with parameter groups 57 weight (no decay), 60 weight, 60 bias\n",
            "\u001b[34m\u001b[1malbumentations: \u001b[0mversion 1.0.3 required by YOLOv5, but version 0.1.12 is currently installed\n",
            "\u001b[34m\u001b[1mtrain: \u001b[0mScanning '/content/dataset/train' images and labels...160 found, 0 missing, 0 empty, 35 corrupt: 100% 160/160 [00:00<00:00, 1542.42it/s]\n",
            "\u001b[34m\u001b[1mtrain: \u001b[0mWARNING: /content/dataset/images/livestock_pig_bbox_000002.jpg: ignoring corrupt image/label: negative label values [  -0.000926   -0.000926]\n",
            "\u001b[34m\u001b[1mtrain: \u001b[0mWARNING: /content/dataset/images/livestock_pig_bbox_000005.jpg: ignoring corrupt image/label: negative label values [  -0.000926   -0.000926]\n",
            "\u001b[34m\u001b[1mtrain: \u001b[0mWARNING: /content/dataset/images/livestock_pig_bbox_000006.jpg: ignoring corrupt image/label: negative label values [  -0.001852]\n",
            "\u001b[34m\u001b[1mtrain: \u001b[0mWARNING: /content/dataset/images/livestock_pig_bbox_000007.jpg: ignoring corrupt image/label: non-normalized or out of bounds coordinates [     1.0003]\n",
            "\u001b[34m\u001b[1mtrain: \u001b[0mWARNING: /content/dataset/images/livestock_pig_bbox_000008.jpg: ignoring corrupt image/label: negative label values [  -0.001852]\n",
            "\u001b[34m\u001b[1mtrain: \u001b[0mWARNING: /content/dataset/images/livestock_pig_bbox_000009.jpg: ignoring corrupt image/label: negative label values [  -0.000926]\n",
            "\u001b[34m\u001b[1mtrain: \u001b[0mWARNING: /content/dataset/images/livestock_pig_bbox_000017.jpg: ignoring corrupt image/label: negative label values [  -0.000926]\n",
            "\u001b[34m\u001b[1mtrain: \u001b[0mWARNING: /content/dataset/images/livestock_pig_bbox_000024.jpg: ignoring corrupt image/label: negative label values [  -0.000926]\n",
            "\u001b[34m\u001b[1mtrain: \u001b[0mWARNING: /content/dataset/images/livestock_pig_bbox_000033.jpg: ignoring corrupt image/label: negative label values [  -0.000926   -0.003704   -0.000926]\n",
            "\u001b[34m\u001b[1mtrain: \u001b[0mWARNING: /content/dataset/images/livestock_pig_bbox_000034.jpg: ignoring corrupt image/label: negative label values [  -0.000926]\n",
            "\u001b[34m\u001b[1mtrain: \u001b[0mWARNING: /content/dataset/images/livestock_pig_bbox_000035.jpg: ignoring corrupt image/label: negative label values [  -0.000926]\n",
            "\u001b[34m\u001b[1mtrain: \u001b[0mWARNING: /content/dataset/images/livestock_pig_bbox_000038.jpg: ignoring corrupt image/label: negative label values [  -0.003704]\n",
            "\u001b[34m\u001b[1mtrain: \u001b[0mWARNING: /content/dataset/images/livestock_pig_bbox_000040.jpg: ignoring corrupt image/label: negative label values [  -0.000926]\n",
            "\u001b[34m\u001b[1mtrain: \u001b[0mWARNING: /content/dataset/images/livestock_pig_bbox_000041.jpg: ignoring corrupt image/label: negative label values [  -0.000926   -0.000926]\n",
            "\u001b[34m\u001b[1mtrain: \u001b[0mWARNING: /content/dataset/images/livestock_pig_bbox_000043.jpg: ignoring corrupt image/label: negative label values [  -0.000926]\n",
            "\u001b[34m\u001b[1mtrain: \u001b[0mWARNING: /content/dataset/images/livestock_pig_bbox_000044.jpg: ignoring corrupt image/label: negative label values [  -0.000926   -0.000926]\n",
            "\u001b[34m\u001b[1mtrain: \u001b[0mWARNING: /content/dataset/images/livestock_pig_bbox_000047.jpg: ignoring corrupt image/label: negative label values [  -0.001852   -0.008333]\n",
            "\u001b[34m\u001b[1mtrain: \u001b[0mWARNING: /content/dataset/images/livestock_pig_bbox_000048.jpg: ignoring corrupt image/label: negative label values [  -0.000926   -0.000926]\n",
            "\u001b[34m\u001b[1mtrain: \u001b[0mWARNING: /content/dataset/images/livestock_pig_bbox_000052.jpg: ignoring corrupt image/label: negative label values [  -0.000926]\n",
            "\u001b[34m\u001b[1mtrain: \u001b[0mWARNING: /content/dataset/images/livestock_pig_bbox_000053.jpg: ignoring corrupt image/label: negative label values [  -0.000926]\n",
            "\u001b[34m\u001b[1mtrain: \u001b[0mWARNING: /content/dataset/images/livestock_pig_bbox_000054.jpg: ignoring corrupt image/label: negative label values [  -0.000926]\n",
            "\u001b[34m\u001b[1mtrain: \u001b[0mWARNING: /content/dataset/images/livestock_pig_bbox_000059.jpg: ignoring corrupt image/label: negative label values [  -0.000926]\n",
            "\u001b[34m\u001b[1mtrain: \u001b[0mWARNING: /content/dataset/images/livestock_pig_bbox_000066.jpg: ignoring corrupt image/label: negative label values [  -0.000926   -0.000926]\n",
            "\u001b[34m\u001b[1mtrain: \u001b[0mWARNING: /content/dataset/images/livestock_pig_bbox_000071.jpg: ignoring corrupt image/label: negative label values [  -0.000926   -0.000926   -0.000926   -0.000926]\n",
            "\u001b[34m\u001b[1mtrain: \u001b[0mWARNING: /content/dataset/images/livestock_pig_bbox_000072.jpg: ignoring corrupt image/label: negative label values [  -0.000926]\n",
            "\u001b[34m\u001b[1mtrain: \u001b[0mWARNING: /content/dataset/images/livestock_pig_bbox_000074.jpg: ignoring corrupt image/label: negative label values [  -0.000926   -0.000926]\n",
            "\u001b[34m\u001b[1mtrain: \u001b[0mWARNING: /content/dataset/images/livestock_pig_bbox_000075.jpg: ignoring corrupt image/label: negative label values [  -0.000926   -0.000926]\n",
            "\u001b[34m\u001b[1mtrain: \u001b[0mWARNING: /content/dataset/images/livestock_pig_bbox_000076.jpg: ignoring corrupt image/label: negative label values [  -0.001852]\n",
            "\u001b[34m\u001b[1mtrain: \u001b[0mWARNING: /content/dataset/images/livestock_pig_bbox_000078.jpg: ignoring corrupt image/label: negative label values [  -0.000926]\n",
            "\u001b[34m\u001b[1mtrain: \u001b[0mWARNING: /content/dataset/images/livestock_pig_bbox_000080.jpg: ignoring corrupt image/label: negative label values [  -0.000926   -0.003704   -0.006481]\n",
            "\u001b[34m\u001b[1mtrain: \u001b[0mWARNING: /content/dataset/images/livestock_pig_bbox_000083.jpg: ignoring corrupt image/label: negative label values [  -0.000926]\n",
            "\u001b[34m\u001b[1mtrain: \u001b[0mWARNING: /content/dataset/images/livestock_pig_bbox_000091.jpg: ignoring corrupt image/label: negative label values [  -0.000926   -0.000926   -0.000926]\n",
            "\u001b[34m\u001b[1mtrain: \u001b[0mWARNING: /content/dataset/images/livestock_pig_bbox_000094.jpg: ignoring corrupt image/label: negative label values [  -0.000926]\n",
            "\u001b[34m\u001b[1mtrain: \u001b[0mWARNING: /content/dataset/images/livestock_pig_bbox_000097.jpg: ignoring corrupt image/label: negative label values [  -0.000926   -0.000926]\n",
            "\u001b[34m\u001b[1mtrain: \u001b[0mWARNING: /content/dataset/images/livestock_pig_bbox_000098.jpg: ignoring corrupt image/label: negative label values [  -0.000926   -0.000926]\n",
            "\u001b[34m\u001b[1mtrain: \u001b[0mNew cache created: /content/dataset/train.cache\n",
            "\u001b[34m\u001b[1mval: \u001b[0mScanning '/content/dataset/val' images and labels...40 found, 0 missing, 0 empty, 7 corrupt: 100% 40/40 [00:00<00:00, 258.03it/s]\n",
            "\u001b[34m\u001b[1mval: \u001b[0mWARNING: /content/dataset/images/livestock_pig_bbox_000010.jpg: ignoring corrupt image/label: negative label values [  -0.000926]\n",
            "\u001b[34m\u001b[1mval: \u001b[0mWARNING: /content/dataset/images/livestock_pig_bbox_000018.jpg: ignoring corrupt image/label: negative label values [  -0.005556   -0.006481]\n",
            "\u001b[34m\u001b[1mval: \u001b[0mWARNING: /content/dataset/images/livestock_pig_bbox_000025.jpg: ignoring corrupt image/label: negative label values [  -0.000926]\n",
            "\u001b[34m\u001b[1mval: \u001b[0mWARNING: /content/dataset/images/livestock_pig_bbox_000029.jpg: ignoring corrupt image/label: negative label values [  -0.000926]\n",
            "\u001b[34m\u001b[1mval: \u001b[0mWARNING: /content/dataset/images/livestock_pig_bbox_000046.jpg: ignoring corrupt image/label: negative label values [  -0.000926   -0.000926   -0.000926]\n",
            "\u001b[34m\u001b[1mval: \u001b[0mWARNING: /content/dataset/images/livestock_pig_bbox_000055.jpg: ignoring corrupt image/label: negative label values [  -0.000926   -0.000926]\n",
            "\u001b[34m\u001b[1mval: \u001b[0mWARNING: /content/dataset/images/livestock_pig_bbox_000084.jpg: ignoring corrupt image/label: negative label values [  -0.000926]\n",
            "\u001b[34m\u001b[1mval: \u001b[0mNew cache created: /content/dataset/val.cache\n",
            "Plotting labels to runs/train/yolov5_results24/labels.jpg... \n",
            "\n",
            "\u001b[34m\u001b[1mAutoAnchor: \u001b[0m4.28 anchors/target, 0.986 Best Possible Recall (BPR). Current anchors are a good fit to dataset ✅\n",
            "Image sizes 64 train, 64 val\n",
            "Using 2 dataloader workers\n",
            "Logging results to \u001b[1mruns/train/yolov5_results24\u001b[0m\n",
            "Starting training for 10 epochs...\n",
            "\n",
            "     Epoch   gpu_mem       box       obj       cls    labels  img_size\n",
            "  0% 0/8 [00:00<?, ?it/s]/usr/local/lib/python3.7/dist-packages/torch/autocast_mode.py:141: UserWarning: User provided device_type of 'cuda', but CUDA is not available. Disabling\n",
            "  warnings.warn('User provided device_type of \\'cuda\\', but CUDA is not available. Disabling')\n",
            "       0/9        0G    0.1295   0.01625   0.02918       205        64:  12% 1/8 [00:04<00:31,  4.51s/it]/usr/local/lib/python3.7/dist-packages/torch/autocast_mode.py:141: UserWarning: User provided device_type of 'cuda', but CUDA is not available. Disabling\n",
            "  warnings.warn('User provided device_type of \\'cuda\\', but CUDA is not available. Disabling')\n",
            "       0/9        0G    0.1285   0.01921   0.02898       255        64:  25% 2/8 [00:05<00:15,  2.65s/it]/usr/local/lib/python3.7/dist-packages/torch/autocast_mode.py:141: UserWarning: User provided device_type of 'cuda', but CUDA is not available. Disabling\n",
            "  warnings.warn('User provided device_type of \\'cuda\\', but CUDA is not available. Disabling')\n",
            "       0/9        0G    0.1284   0.01886   0.02905       232        64:  38% 3/8 [00:06<00:09,  1.88s/it]/usr/local/lib/python3.7/dist-packages/torch/autocast_mode.py:141: UserWarning: User provided device_type of 'cuda', but CUDA is not available. Disabling\n",
            "  warnings.warn('User provided device_type of \\'cuda\\', but CUDA is not available. Disabling')\n",
            "       0/9        0G    0.1281   0.02018   0.02918       269        64:  50% 4/8 [00:07<00:05,  1.49s/it]/usr/local/lib/python3.7/dist-packages/torch/autocast_mode.py:141: UserWarning: User provided device_type of 'cuda', but CUDA is not available. Disabling\n",
            "  warnings.warn('User provided device_type of \\'cuda\\', but CUDA is not available. Disabling')\n",
            "       0/9        0G    0.1282   0.02034    0.0292       272        64:  62% 5/8 [00:08<00:04,  1.35s/it]/usr/local/lib/python3.7/dist-packages/torch/autocast_mode.py:141: UserWarning: User provided device_type of 'cuda', but CUDA is not available. Disabling\n",
            "  warnings.warn('User provided device_type of \\'cuda\\', but CUDA is not available. Disabling')\n",
            "       0/9        0G    0.1278   0.02026   0.02879       239        64:  75% 6/8 [00:10<00:03,  1.60s/it]/usr/local/lib/python3.7/dist-packages/torch/autocast_mode.py:141: UserWarning: User provided device_type of 'cuda', but CUDA is not available. Disabling\n",
            "  warnings.warn('User provided device_type of \\'cuda\\', but CUDA is not available. Disabling')\n",
            "       0/9        0G    0.1277   0.02088    0.0286       195        64:  88% 7/8 [00:12<00:01,  1.46s/it]/usr/local/lib/python3.7/dist-packages/torch/autocast_mode.py:141: UserWarning: User provided device_type of 'cuda', but CUDA is not available. Disabling\n",
            "  warnings.warn('User provided device_type of \\'cuda\\', but CUDA is not available. Disabling')\n",
            "       0/9        0G    0.1278    0.0208   0.02862       173        64: 100% 8/8 [00:14<00:00,  1.82s/it]\n",
            "               Class     Images     Labels          P          R     mAP@.5 mAP@.5:.95: 100% 2/2 [00:00<00:00,  2.01it/s]\n",
            "                 all         33        203      0.112       0.11     0.0473     0.0115\n",
            "\n",
            "     Epoch   gpu_mem       box       obj       cls    labels  img_size\n",
            "  0% 0/8 [00:00<?, ?it/s]/usr/local/lib/python3.7/dist-packages/torch/autocast_mode.py:141: UserWarning: User provided device_type of 'cuda', but CUDA is not available. Disabling\n",
            "  warnings.warn('User provided device_type of \\'cuda\\', but CUDA is not available. Disabling')\n",
            "       1/9        0G    0.1275   0.01986   0.02787       270        64:  12% 1/8 [00:01<00:10,  1.45s/it]/usr/local/lib/python3.7/dist-packages/torch/autocast_mode.py:141: UserWarning: User provided device_type of 'cuda', but CUDA is not available. Disabling\n",
            "  warnings.warn('User provided device_type of \\'cuda\\', but CUDA is not available. Disabling')\n",
            "       1/9        0G    0.1261    0.0185   0.02809       178        64:  25% 2/8 [00:03<00:12,  2.05s/it]/usr/local/lib/python3.7/dist-packages/torch/autocast_mode.py:141: UserWarning: User provided device_type of 'cuda', but CUDA is not available. Disabling\n",
            "  warnings.warn('User provided device_type of \\'cuda\\', but CUDA is not available. Disabling')\n",
            "       1/9        0G    0.1257   0.01953   0.02797       240        64:  38% 3/8 [00:06<00:10,  2.08s/it]/usr/local/lib/python3.7/dist-packages/torch/autocast_mode.py:141: UserWarning: User provided device_type of 'cuda', but CUDA is not available. Disabling\n",
            "  warnings.warn('User provided device_type of \\'cuda\\', but CUDA is not available. Disabling')\n",
            "       1/9        0G    0.1257   0.02067   0.02816       236        64:  50% 4/8 [00:08<00:08,  2.19s/it]/usr/local/lib/python3.7/dist-packages/torch/autocast_mode.py:141: UserWarning: User provided device_type of 'cuda', but CUDA is not available. Disabling\n",
            "  warnings.warn('User provided device_type of \\'cuda\\', but CUDA is not available. Disabling')\n",
            "       1/9        0G    0.1257   0.02096   0.02824       248        64:  62% 5/8 [00:10<00:06,  2.12s/it]/usr/local/lib/python3.7/dist-packages/torch/autocast_mode.py:141: UserWarning: User provided device_type of 'cuda', but CUDA is not available. Disabling\n",
            "  warnings.warn('User provided device_type of \\'cuda\\', but CUDA is not available. Disabling')\n",
            "       1/9        0G    0.1256   0.02102   0.02824       226        64:  75% 6/8 [00:12<00:04,  2.26s/it]/usr/local/lib/python3.7/dist-packages/torch/autocast_mode.py:141: UserWarning: User provided device_type of 'cuda', but CUDA is not available. Disabling\n",
            "  warnings.warn('User provided device_type of \\'cuda\\', but CUDA is not available. Disabling')\n",
            "       1/9        0G    0.1254   0.02119   0.02809       208        64:  88% 7/8 [00:15<00:02,  2.24s/it]/usr/local/lib/python3.7/dist-packages/torch/autocast_mode.py:141: UserWarning: User provided device_type of 'cuda', but CUDA is not available. Disabling\n",
            "  warnings.warn('User provided device_type of \\'cuda\\', but CUDA is not available. Disabling')\n",
            "       1/9        0G    0.1251   0.02103   0.02816       203        64: 100% 8/8 [00:16<00:00,  2.09s/it]\n",
            "               Class     Images     Labels          P          R     mAP@.5 mAP@.5:.95: 100% 2/2 [00:01<00:00,  1.87it/s]\n",
            "                 all         33        203     0.0807      0.104     0.0416    0.00949\n",
            "\n",
            "     Epoch   gpu_mem       box       obj       cls    labels  img_size\n",
            "  0% 0/8 [00:00<?, ?it/s]/usr/local/lib/python3.7/dist-packages/torch/autocast_mode.py:141: UserWarning: User provided device_type of 'cuda', but CUDA is not available. Disabling\n",
            "  warnings.warn('User provided device_type of \\'cuda\\', but CUDA is not available. Disabling')\n",
            "       2/9        0G    0.1247   0.02062   0.02701       203        64:  12% 1/8 [00:02<00:19,  2.82s/it]/usr/local/lib/python3.7/dist-packages/torch/autocast_mode.py:141: UserWarning: User provided device_type of 'cuda', but CUDA is not available. Disabling\n",
            "  warnings.warn('User provided device_type of \\'cuda\\', but CUDA is not available. Disabling')\n",
            "       2/9        0G    0.1242   0.02048   0.02763       214        64:  25% 2/8 [00:04<00:12,  2.16s/it]/usr/local/lib/python3.7/dist-packages/torch/autocast_mode.py:141: UserWarning: User provided device_type of 'cuda', but CUDA is not available. Disabling\n",
            "  warnings.warn('User provided device_type of \\'cuda\\', but CUDA is not available. Disabling')\n",
            "       2/9        0G    0.1245   0.01934   0.02836       164        64:  38% 3/8 [00:08<00:13,  2.78s/it]/usr/local/lib/python3.7/dist-packages/torch/autocast_mode.py:141: UserWarning: User provided device_type of 'cuda', but CUDA is not available. Disabling\n",
            "  warnings.warn('User provided device_type of \\'cuda\\', but CUDA is not available. Disabling')\n",
            "       2/9        0G     0.124   0.01971   0.02815       274        64:  50% 4/8 [00:09<00:08,  2.19s/it]/usr/local/lib/python3.7/dist-packages/torch/autocast_mode.py:141: UserWarning: User provided device_type of 'cuda', but CUDA is not available. Disabling\n",
            "  warnings.warn('User provided device_type of \\'cuda\\', but CUDA is not available. Disabling')\n",
            "       2/9        0G    0.1234   0.02055   0.02824       273        64:  62% 5/8 [00:12<00:07,  2.49s/it]/usr/local/lib/python3.7/dist-packages/torch/autocast_mode.py:141: UserWarning: User provided device_type of 'cuda', but CUDA is not available. Disabling\n",
            "  warnings.warn('User provided device_type of \\'cuda\\', but CUDA is not available. Disabling')\n",
            "       2/9        0G    0.1233   0.02078   0.02824       213        64:  75% 6/8 [00:13<00:04,  2.19s/it]/usr/local/lib/python3.7/dist-packages/torch/autocast_mode.py:141: UserWarning: User provided device_type of 'cuda', but CUDA is not available. Disabling\n",
            "  warnings.warn('User provided device_type of \\'cuda\\', but CUDA is not available. Disabling')\n",
            "       2/9        0G    0.1232   0.02131   0.02803       248        64:  88% 7/8 [00:16<00:02,  2.44s/it]/usr/local/lib/python3.7/dist-packages/torch/autocast_mode.py:141: UserWarning: User provided device_type of 'cuda', but CUDA is not available. Disabling\n",
            "  warnings.warn('User provided device_type of \\'cuda\\', but CUDA is not available. Disabling')\n",
            "       2/9        0G     0.123   0.02162   0.02798       197        64: 100% 8/8 [00:17<00:00,  2.22s/it]\n",
            "               Class     Images     Labels          P          R     mAP@.5 mAP@.5:.95: 100% 2/2 [00:01<00:00,  1.89it/s]\n",
            "                 all         33        203     0.0693      0.107       0.04    0.00899\n",
            "\n",
            "     Epoch   gpu_mem       box       obj       cls    labels  img_size\n",
            "  0% 0/8 [00:00<?, ?it/s]/usr/local/lib/python3.7/dist-packages/torch/autocast_mode.py:141: UserWarning: User provided device_type of 'cuda', but CUDA is not available. Disabling\n",
            "  warnings.warn('User provided device_type of \\'cuda\\', but CUDA is not available. Disabling')\n",
            "       3/9        0G    0.1222   0.01886   0.02795       181        64:  12% 1/8 [00:03<00:24,  3.45s/it]/usr/local/lib/python3.7/dist-packages/torch/autocast_mode.py:141: UserWarning: User provided device_type of 'cuda', but CUDA is not available. Disabling\n",
            "  warnings.warn('User provided device_type of \\'cuda\\', but CUDA is not available. Disabling')\n",
            "       3/9        0G    0.1224   0.02007     0.028       229        64:  25% 2/8 [00:04<00:11,  1.90s/it]/usr/local/lib/python3.7/dist-packages/torch/autocast_mode.py:141: UserWarning: User provided device_type of 'cuda', but CUDA is not available. Disabling\n",
            "  warnings.warn('User provided device_type of \\'cuda\\', but CUDA is not available. Disabling')\n",
            "       3/9        0G    0.1218   0.02008    0.0272       218        64:  38% 3/8 [00:07<00:13,  2.73s/it]/usr/local/lib/python3.7/dist-packages/torch/autocast_mode.py:141: UserWarning: User provided device_type of 'cuda', but CUDA is not available. Disabling\n",
            "  warnings.warn('User provided device_type of \\'cuda\\', but CUDA is not available. Disabling')\n",
            "       3/9        0G    0.1218   0.02148   0.02732       291        64:  50% 4/8 [00:09<00:08,  2.09s/it]/usr/local/lib/python3.7/dist-packages/torch/autocast_mode.py:141: UserWarning: User provided device_type of 'cuda', but CUDA is not available. Disabling\n",
            "  warnings.warn('User provided device_type of \\'cuda\\', but CUDA is not available. Disabling')\n",
            "       3/9        0G    0.1213   0.02271   0.02714       234        64:  62% 5/8 [00:12<00:07,  2.53s/it]/usr/local/lib/python3.7/dist-packages/torch/autocast_mode.py:141: UserWarning: User provided device_type of 'cuda', but CUDA is not available. Disabling\n",
            "  warnings.warn('User provided device_type of \\'cuda\\', but CUDA is not available. Disabling')\n",
            "       3/9        0G    0.1217   0.02237   0.02725       240        64:  75% 6/8 [00:13<00:04,  2.06s/it]/usr/local/lib/python3.7/dist-packages/torch/autocast_mode.py:141: UserWarning: User provided device_type of 'cuda', but CUDA is not available. Disabling\n",
            "  warnings.warn('User provided device_type of \\'cuda\\', but CUDA is not available. Disabling')\n",
            "       3/9        0G    0.1219   0.02258   0.02749       231        64:  88% 7/8 [00:17<00:02,  2.55s/it]/usr/local/lib/python3.7/dist-packages/torch/autocast_mode.py:141: UserWarning: User provided device_type of 'cuda', but CUDA is not available. Disabling\n",
            "  warnings.warn('User provided device_type of \\'cuda\\', but CUDA is not available. Disabling')\n",
            "       3/9        0G     0.122   0.02224   0.02738       160        64: 100% 8/8 [00:17<00:00,  2.24s/it]\n",
            "               Class     Images     Labels          P          R     mAP@.5 mAP@.5:.95: 100% 2/2 [00:01<00:00,  1.78it/s]\n",
            "                 all         33        203     0.0629     0.0865     0.0395    0.00879\n",
            "\n",
            "     Epoch   gpu_mem       box       obj       cls    labels  img_size\n",
            "  0% 0/8 [00:00<?, ?it/s]/usr/local/lib/python3.7/dist-packages/torch/autocast_mode.py:141: UserWarning: User provided device_type of 'cuda', but CUDA is not available. Disabling\n",
            "  warnings.warn('User provided device_type of \\'cuda\\', but CUDA is not available. Disabling')\n",
            "       4/9        0G    0.1173   0.02663   0.02645       224        64:  12% 1/8 [00:03<00:23,  3.38s/it]/usr/local/lib/python3.7/dist-packages/torch/autocast_mode.py:141: UserWarning: User provided device_type of 'cuda', but CUDA is not available. Disabling\n",
            "  warnings.warn('User provided device_type of \\'cuda\\', but CUDA is not available. Disabling')\n",
            "       4/9        0G    0.1194   0.02515    0.0265       258        64:  25% 2/8 [00:04<00:11,  1.95s/it]/usr/local/lib/python3.7/dist-packages/torch/autocast_mode.py:141: UserWarning: User provided device_type of 'cuda', but CUDA is not available. Disabling\n",
            "  warnings.warn('User provided device_type of \\'cuda\\', but CUDA is not available. Disabling')\n",
            "       4/9        0G      0.12   0.02539   0.02691       251        64:  38% 3/8 [00:07<00:12,  2.47s/it]/usr/local/lib/python3.7/dist-packages/torch/autocast_mode.py:141: UserWarning: User provided device_type of 'cuda', but CUDA is not available. Disabling\n",
            "  warnings.warn('User provided device_type of \\'cuda\\', but CUDA is not available. Disabling')\n",
            "       4/9        0G    0.1203    0.0252   0.02675       274        64:  50% 4/8 [00:08<00:07,  1.85s/it]/usr/local/lib/python3.7/dist-packages/torch/autocast_mode.py:141: UserWarning: User provided device_type of 'cuda', but CUDA is not available. Disabling\n",
            "  warnings.warn('User provided device_type of \\'cuda\\', but CUDA is not available. Disabling')\n",
            "       4/9        0G    0.1198   0.02525   0.02665       259        64:  62% 5/8 [00:11<00:07,  2.51s/it]/usr/local/lib/python3.7/dist-packages/torch/autocast_mode.py:141: UserWarning: User provided device_type of 'cuda', but CUDA is not available. Disabling\n",
            "  warnings.warn('User provided device_type of \\'cuda\\', but CUDA is not available. Disabling')\n",
            "       4/9        0G    0.1199    0.0249   0.02685       197        64:  75% 6/8 [00:12<00:03,  1.97s/it]/usr/local/lib/python3.7/dist-packages/torch/autocast_mode.py:141: UserWarning: User provided device_type of 'cuda', but CUDA is not available. Disabling\n",
            "  warnings.warn('User provided device_type of \\'cuda\\', but CUDA is not available. Disabling')\n",
            "       4/9        0G    0.1196   0.02462   0.02687       214        64:  88% 7/8 [00:16<00:02,  2.54s/it]/usr/local/lib/python3.7/dist-packages/torch/autocast_mode.py:141: UserWarning: User provided device_type of 'cuda', but CUDA is not available. Disabling\n",
            "  warnings.warn('User provided device_type of \\'cuda\\', but CUDA is not available. Disabling')\n",
            "       4/9        0G    0.1198   0.02427     0.027       198        64: 100% 8/8 [00:17<00:00,  2.19s/it]\n",
            "               Class     Images     Labels          P          R     mAP@.5 mAP@.5:.95: 100% 2/2 [00:01<00:00,  1.87it/s]\n",
            "                 all         33        203      0.068     0.0766     0.0382    0.00824\n",
            "\n",
            "     Epoch   gpu_mem       box       obj       cls    labels  img_size\n",
            "  0% 0/8 [00:00<?, ?it/s]/usr/local/lib/python3.7/dist-packages/torch/autocast_mode.py:141: UserWarning: User provided device_type of 'cuda', but CUDA is not available. Disabling\n",
            "  warnings.warn('User provided device_type of \\'cuda\\', but CUDA is not available. Disabling')\n",
            "       5/9        0G    0.1191    0.0261   0.02765       251        64:  12% 1/8 [00:03<00:22,  3.15s/it]/usr/local/lib/python3.7/dist-packages/torch/autocast_mode.py:141: UserWarning: User provided device_type of 'cuda', but CUDA is not available. Disabling\n",
            "  warnings.warn('User provided device_type of \\'cuda\\', but CUDA is not available. Disabling')\n",
            "       5/9        0G    0.1187   0.02306   0.02722       212        64:  25% 2/8 [00:04<00:11,  1.85s/it]/usr/local/lib/python3.7/dist-packages/torch/autocast_mode.py:141: UserWarning: User provided device_type of 'cuda', but CUDA is not available. Disabling\n",
            "  warnings.warn('User provided device_type of \\'cuda\\', but CUDA is not available. Disabling')\n",
            "       5/9        0G    0.1179   0.02333   0.02702       213        64:  38% 3/8 [00:07<00:13,  2.78s/it]/usr/local/lib/python3.7/dist-packages/torch/autocast_mode.py:141: UserWarning: User provided device_type of 'cuda', but CUDA is not available. Disabling\n",
            "  warnings.warn('User provided device_type of \\'cuda\\', but CUDA is not available. Disabling')\n",
            "       5/9        0G    0.1178   0.02331   0.02698       226        64:  50% 4/8 [00:08<00:08,  2.05s/it]/usr/local/lib/python3.7/dist-packages/torch/autocast_mode.py:141: UserWarning: User provided device_type of 'cuda', but CUDA is not available. Disabling\n",
            "  warnings.warn('User provided device_type of \\'cuda\\', but CUDA is not available. Disabling')\n",
            "       5/9        0G    0.1174   0.02289   0.02681       231        64:  62% 5/8 [00:12<00:07,  2.65s/it]/usr/local/lib/python3.7/dist-packages/torch/autocast_mode.py:141: UserWarning: User provided device_type of 'cuda', but CUDA is not available. Disabling\n",
            "  warnings.warn('User provided device_type of \\'cuda\\', but CUDA is not available. Disabling')\n",
            "       5/9        0G    0.1174    0.0237   0.02674       237        64:  75% 6/8 [00:13<00:04,  2.08s/it]/usr/local/lib/python3.7/dist-packages/torch/autocast_mode.py:141: UserWarning: User provided device_type of 'cuda', but CUDA is not available. Disabling\n",
            "  warnings.warn('User provided device_type of \\'cuda\\', but CUDA is not available. Disabling')\n",
            "       5/9        0G    0.1175   0.02379   0.02673       220        64:  88% 7/8 [00:17<00:02,  2.52s/it]/usr/local/lib/python3.7/dist-packages/torch/autocast_mode.py:141: UserWarning: User provided device_type of 'cuda', but CUDA is not available. Disabling\n",
            "  warnings.warn('User provided device_type of \\'cuda\\', but CUDA is not available. Disabling')\n",
            "       5/9        0G     0.118   0.02421    0.0267       236        64: 100% 8/8 [00:17<00:00,  2.24s/it]\n",
            "               Class     Images     Labels          P          R     mAP@.5 mAP@.5:.95: 100% 2/2 [00:01<00:00,  1.79it/s]\n",
            "                 all         33        203     0.0514       0.19     0.0408     0.0079\n",
            "\n",
            "     Epoch   gpu_mem       box       obj       cls    labels  img_size\n",
            "  0% 0/8 [00:00<?, ?it/s]/usr/local/lib/python3.7/dist-packages/torch/autocast_mode.py:141: UserWarning: User provided device_type of 'cuda', but CUDA is not available. Disabling\n",
            "  warnings.warn('User provided device_type of \\'cuda\\', but CUDA is not available. Disabling')\n",
            "       6/9        0G    0.1208   0.02037    0.0258       240        64:  12% 1/8 [00:03<00:23,  3.34s/it]/usr/local/lib/python3.7/dist-packages/torch/autocast_mode.py:141: UserWarning: User provided device_type of 'cuda', but CUDA is not available. Disabling\n",
            "  warnings.warn('User provided device_type of \\'cuda\\', but CUDA is not available. Disabling')\n",
            "       6/9        0G    0.1192   0.02309   0.02602       230        64:  25% 2/8 [00:04<00:11,  1.99s/it]/usr/local/lib/python3.7/dist-packages/torch/autocast_mode.py:141: UserWarning: User provided device_type of 'cuda', but CUDA is not available. Disabling\n",
            "  warnings.warn('User provided device_type of \\'cuda\\', but CUDA is not available. Disabling')\n",
            "       6/9        0G    0.1179   0.02366   0.02607       251        64:  38% 3/8 [00:08<00:14,  2.87s/it]/usr/local/lib/python3.7/dist-packages/torch/autocast_mode.py:141: UserWarning: User provided device_type of 'cuda', but CUDA is not available. Disabling\n",
            "  warnings.warn('User provided device_type of \\'cuda\\', but CUDA is not available. Disabling')\n",
            "       6/9        0G     0.118   0.02452   0.02619       257        64:  50% 4/8 [00:09<00:08,  2.10s/it]/usr/local/lib/python3.7/dist-packages/torch/autocast_mode.py:141: UserWarning: User provided device_type of 'cuda', but CUDA is not available. Disabling\n",
            "  warnings.warn('User provided device_type of \\'cuda\\', but CUDA is not available. Disabling')\n",
            "       6/9        0G    0.1178   0.02397   0.02611       206        64:  62% 5/8 [00:12<00:07,  2.60s/it]/usr/local/lib/python3.7/dist-packages/torch/autocast_mode.py:141: UserWarning: User provided device_type of 'cuda', but CUDA is not available. Disabling\n",
            "  warnings.warn('User provided device_type of \\'cuda\\', but CUDA is not available. Disabling')\n",
            "       6/9        0G    0.1182    0.0233   0.02608       225        64:  75% 6/8 [00:13<00:04,  2.05s/it]/usr/local/lib/python3.7/dist-packages/torch/autocast_mode.py:141: UserWarning: User provided device_type of 'cuda', but CUDA is not available. Disabling\n",
            "  warnings.warn('User provided device_type of \\'cuda\\', but CUDA is not available. Disabling')\n",
            "       6/9        0G    0.1181   0.02306   0.02618       219        64:  88% 7/8 [00:17<00:02,  2.49s/it]/usr/local/lib/python3.7/dist-packages/torch/autocast_mode.py:141: UserWarning: User provided device_type of 'cuda', but CUDA is not available. Disabling\n",
            "  warnings.warn('User provided device_type of \\'cuda\\', but CUDA is not available. Disabling')\n",
            "       6/9        0G    0.1182   0.02348   0.02639       214        64: 100% 8/8 [00:17<00:00,  2.25s/it]\n",
            "               Class     Images     Labels          P          R     mAP@.5 mAP@.5:.95: 100% 2/2 [00:01<00:00,  1.81it/s]\n",
            "                 all         33        203     0.0564       0.14     0.0412    0.00887\n",
            "\n",
            "     Epoch   gpu_mem       box       obj       cls    labels  img_size\n",
            "  0% 0/8 [00:00<?, ?it/s]/usr/local/lib/python3.7/dist-packages/torch/autocast_mode.py:141: UserWarning: User provided device_type of 'cuda', but CUDA is not available. Disabling\n",
            "  warnings.warn('User provided device_type of \\'cuda\\', but CUDA is not available. Disabling')\n",
            "       7/9        0G    0.1185   0.02534   0.02485       281        64:  12% 1/8 [00:03<00:22,  3.19s/it]/usr/local/lib/python3.7/dist-packages/torch/autocast_mode.py:141: UserWarning: User provided device_type of 'cuda', but CUDA is not available. Disabling\n",
            "  warnings.warn('User provided device_type of \\'cuda\\', but CUDA is not available. Disabling')\n",
            "       7/9        0G    0.1188   0.02355   0.02524       261        64:  25% 2/8 [00:04<00:10,  1.79s/it]/usr/local/lib/python3.7/dist-packages/torch/autocast_mode.py:141: UserWarning: User provided device_type of 'cuda', but CUDA is not available. Disabling\n",
            "  warnings.warn('User provided device_type of \\'cuda\\', but CUDA is not available. Disabling')\n",
            "       7/9        0G    0.1172   0.02464   0.02555       228        64:  38% 3/8 [00:07<00:13,  2.71s/it]/usr/local/lib/python3.7/dist-packages/torch/autocast_mode.py:141: UserWarning: User provided device_type of 'cuda', but CUDA is not available. Disabling\n",
            "  warnings.warn('User provided device_type of \\'cuda\\', but CUDA is not available. Disabling')\n",
            "       7/9        0G    0.1176   0.02376    0.0255       186        64:  50% 4/8 [00:08<00:08,  2.01s/it]/usr/local/lib/python3.7/dist-packages/torch/autocast_mode.py:141: UserWarning: User provided device_type of 'cuda', but CUDA is not available. Disabling\n",
            "  warnings.warn('User provided device_type of \\'cuda\\', but CUDA is not available. Disabling')\n",
            "       7/9        0G     0.117   0.02348   0.02529       265        64:  62% 5/8 [00:12<00:07,  2.52s/it]/usr/local/lib/python3.7/dist-packages/torch/autocast_mode.py:141: UserWarning: User provided device_type of 'cuda', but CUDA is not available. Disabling\n",
            "  warnings.warn('User provided device_type of \\'cuda\\', but CUDA is not available. Disabling')\n",
            "       7/9        0G    0.1175   0.02329   0.02527       240        64:  75% 6/8 [00:13<00:03,  1.98s/it]/usr/local/lib/python3.7/dist-packages/torch/autocast_mode.py:141: UserWarning: User provided device_type of 'cuda', but CUDA is not available. Disabling\n",
            "  warnings.warn('User provided device_type of \\'cuda\\', but CUDA is not available. Disabling')\n",
            "       7/9        0G    0.1174   0.02362   0.02561       246        64:  88% 7/8 [00:17<00:02,  2.61s/it]/usr/local/lib/python3.7/dist-packages/torch/autocast_mode.py:141: UserWarning: User provided device_type of 'cuda', but CUDA is not available. Disabling\n",
            "  warnings.warn('User provided device_type of \\'cuda\\', but CUDA is not available. Disabling')\n",
            "       7/9        0G    0.1171   0.02373   0.02557       196        64: 100% 8/8 [00:17<00:00,  2.24s/it]\n",
            "               Class     Images     Labels          P          R     mAP@.5 mAP@.5:.95: 100% 2/2 [00:01<00:00,  1.80it/s]\n",
            "                 all         33        203     0.0682     0.0677     0.0325    0.00698\n",
            "\n",
            "     Epoch   gpu_mem       box       obj       cls    labels  img_size\n",
            "  0% 0/8 [00:00<?, ?it/s]/usr/local/lib/python3.7/dist-packages/torch/autocast_mode.py:141: UserWarning: User provided device_type of 'cuda', but CUDA is not available. Disabling\n",
            "  warnings.warn('User provided device_type of \\'cuda\\', but CUDA is not available. Disabling')\n",
            "       8/9        0G    0.1163   0.02274   0.02589       251        64:  12% 1/8 [00:03<00:22,  3.24s/it]/usr/local/lib/python3.7/dist-packages/torch/autocast_mode.py:141: UserWarning: User provided device_type of 'cuda', but CUDA is not available. Disabling\n",
            "  warnings.warn('User provided device_type of \\'cuda\\', but CUDA is not available. Disabling')\n",
            "       8/9        0G     0.116   0.02137   0.02539       219        64:  25% 2/8 [00:04<00:10,  1.83s/it]/usr/local/lib/python3.7/dist-packages/torch/autocast_mode.py:141: UserWarning: User provided device_type of 'cuda', but CUDA is not available. Disabling\n",
            "  warnings.warn('User provided device_type of \\'cuda\\', but CUDA is not available. Disabling')\n"
          ]
        }
      ]
    },
    {
      "cell_type": "code",
      "source": [
        "\n",
        "from utils.plots import plot_results\n",
        "plot_results('path/to/results.csv') "
      ],
      "metadata": {
        "colab": {
          "base_uri": "https://localhost:8080/",
          "height": 367
        },
        "id": "ApBNoqixeFrE",
        "outputId": "d8d97fcd-e2e0-4fc1-f2dd-58a97df2bd5e"
      },
      "execution_count": 14,
      "outputs": [
        {
          "output_type": "error",
          "ename": "AssertionError",
          "evalue": "ignored",
          "traceback": [
            "\u001b[0;31m---------------------------------------------------------------------------\u001b[0m",
            "\u001b[0;31mAssertionError\u001b[0m                            Traceback (most recent call last)",
            "\u001b[0;32m<ipython-input-14-d93ab322114a>\u001b[0m in \u001b[0;36m<module>\u001b[0;34m()\u001b[0m\n\u001b[1;32m      1\u001b[0m \u001b[0;34m\u001b[0m\u001b[0m\n\u001b[1;32m      2\u001b[0m \u001b[0;32mfrom\u001b[0m \u001b[0mutils\u001b[0m\u001b[0;34m.\u001b[0m\u001b[0mplots\u001b[0m \u001b[0;32mimport\u001b[0m \u001b[0mplot_results\u001b[0m\u001b[0;34m\u001b[0m\u001b[0;34m\u001b[0m\u001b[0m\n\u001b[0;32m----> 3\u001b[0;31m \u001b[0mplot_results\u001b[0m\u001b[0;34m(\u001b[0m\u001b[0;34m'path/to/results.csv'\u001b[0m\u001b[0;34m)\u001b[0m\u001b[0;34m\u001b[0m\u001b[0;34m\u001b[0m\u001b[0m\n\u001b[0m",
            "\u001b[0;32m/content/yolov5/utils/plots.py\u001b[0m in \u001b[0;36mplot_results\u001b[0;34m(file, dir)\u001b[0m\n\u001b[1;32m    404\u001b[0m     \u001b[0max\u001b[0m \u001b[0;34m=\u001b[0m \u001b[0max\u001b[0m\u001b[0;34m.\u001b[0m\u001b[0mravel\u001b[0m\u001b[0;34m(\u001b[0m\u001b[0;34m)\u001b[0m\u001b[0;34m\u001b[0m\u001b[0;34m\u001b[0m\u001b[0m\n\u001b[1;32m    405\u001b[0m     \u001b[0mfiles\u001b[0m \u001b[0;34m=\u001b[0m \u001b[0mlist\u001b[0m\u001b[0;34m(\u001b[0m\u001b[0msave_dir\u001b[0m\u001b[0;34m.\u001b[0m\u001b[0mglob\u001b[0m\u001b[0;34m(\u001b[0m\u001b[0;34m'results*.csv'\u001b[0m\u001b[0;34m)\u001b[0m\u001b[0;34m)\u001b[0m\u001b[0;34m\u001b[0m\u001b[0;34m\u001b[0m\u001b[0m\n\u001b[0;32m--> 406\u001b[0;31m     \u001b[0;32massert\u001b[0m \u001b[0mlen\u001b[0m\u001b[0;34m(\u001b[0m\u001b[0mfiles\u001b[0m\u001b[0;34m)\u001b[0m\u001b[0;34m,\u001b[0m \u001b[0;34mf'No results.csv files found in {save_dir.resolve()}, nothing to plot.'\u001b[0m\u001b[0;34m\u001b[0m\u001b[0;34m\u001b[0m\u001b[0m\n\u001b[0m\u001b[1;32m    407\u001b[0m     \u001b[0;32mfor\u001b[0m \u001b[0mfi\u001b[0m\u001b[0;34m,\u001b[0m \u001b[0mf\u001b[0m \u001b[0;32min\u001b[0m \u001b[0menumerate\u001b[0m\u001b[0;34m(\u001b[0m\u001b[0mfiles\u001b[0m\u001b[0;34m)\u001b[0m\u001b[0;34m:\u001b[0m\u001b[0;34m\u001b[0m\u001b[0;34m\u001b[0m\u001b[0m\n\u001b[1;32m    408\u001b[0m         \u001b[0;32mtry\u001b[0m\u001b[0;34m:\u001b[0m\u001b[0;34m\u001b[0m\u001b[0;34m\u001b[0m\u001b[0m\n",
            "\u001b[0;31mAssertionError\u001b[0m: No results.csv files found in /content/yolov5/path/to, nothing to plot."
          ]
        }
      ]
    }
  ]
}