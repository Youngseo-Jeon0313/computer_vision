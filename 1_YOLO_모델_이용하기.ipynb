{
  "nbformat": 4,
  "nbformat_minor": 0,
  "metadata": {
    "colab": {
      "name": "1.YOLO 모델 이용하기",
      "provenance": [],
      "mount_file_id": "1vPAVDAUDRzJwl8XUXzkFwkDGYEkYGEQy",
      "authorship_tag": "ABX9TyO5Wpndn99aIFj0s+MqFZXQ",
      "include_colab_link": true
    },
    "kernelspec": {
      "name": "python3",
      "display_name": "Python 3"
    },
    "language_info": {
      "name": "python"
    }
  },
  "cells": [
    {
      "cell_type": "markdown",
      "metadata": {
        "id": "view-in-github",
        "colab_type": "text"
      },
      "source": [
        "<a href=\"https://colab.research.google.com/github/Youngseo-Jeon0313/computer_vision/blob/main/1_YOLO_%EB%AA%A8%EB%8D%B8_%EC%9D%B4%EC%9A%A9%ED%95%98%EA%B8%B0.ipynb\" target=\"_parent\"><img src=\"https://colab.research.google.com/assets/colab-badge.svg\" alt=\"Open In Colab\"/></a>"
      ]
    },
    {
      "cell_type": "code",
      "source": [
        "from google.colab import drive \n",
        "drive.mount('/content/gdrive/')\n"
      ],
      "metadata": {
        "id": "ns0-ykaNVogf",
        "colab": {
          "base_uri": "https://localhost:8080/"
        },
        "outputId": "0c3cad6d-ab9b-47dc-8c07-9108a7f4e73a"
      },
      "execution_count": null,
      "outputs": [
        {
          "output_type": "stream",
          "name": "stdout",
          "text": [
            "Mounted at /content/gdrive/\n"
          ]
        }
      ]
    },
    {
      "cell_type": "code",
      "source": [
        "%cd /content/yolov5/\n",
        "!pip install -r requirements.txt"
      ],
      "metadata": {
        "colab": {
          "base_uri": "https://localhost:8080/"
        },
        "id": "v7V6xQRFOBcw",
        "outputId": "27f8985b-e2a3-48da-b4a0-e9fc8369edfc"
      },
      "execution_count": null,
      "outputs": [
        {
          "output_type": "stream",
          "name": "stdout",
          "text": [
            "/content/yolov5\n",
            "Requirement already satisfied: matplotlib>=3.2.2 in /usr/local/lib/python3.7/dist-packages (from -r requirements.txt (line 4)) (3.2.2)\n",
            "Requirement already satisfied: numpy>=1.18.5 in /usr/local/lib/python3.7/dist-packages (from -r requirements.txt (line 5)) (1.19.5)\n",
            "Requirement already satisfied: opencv-python>=4.1.2 in /usr/local/lib/python3.7/dist-packages (from -r requirements.txt (line 6)) (4.1.2.30)\n",
            "Requirement already satisfied: Pillow>=7.1.2 in /usr/local/lib/python3.7/dist-packages (from -r requirements.txt (line 7)) (7.1.2)\n",
            "Requirement already satisfied: PyYAML>=5.3.1 in /usr/local/lib/python3.7/dist-packages (from -r requirements.txt (line 8)) (6.0)\n",
            "Requirement already satisfied: requests>=2.23.0 in /usr/local/lib/python3.7/dist-packages (from -r requirements.txt (line 9)) (2.23.0)\n",
            "Requirement already satisfied: scipy>=1.4.1 in /usr/local/lib/python3.7/dist-packages (from -r requirements.txt (line 10)) (1.4.1)\n",
            "Requirement already satisfied: torch>=1.7.0 in /usr/local/lib/python3.7/dist-packages (from -r requirements.txt (line 11)) (1.10.0+cu111)\n",
            "Requirement already satisfied: torchvision>=0.8.1 in /usr/local/lib/python3.7/dist-packages (from -r requirements.txt (line 12)) (0.11.1+cu111)\n",
            "Requirement already satisfied: tqdm>=4.41.0 in /usr/local/lib/python3.7/dist-packages (from -r requirements.txt (line 13)) (4.62.3)\n",
            "Requirement already satisfied: tensorboard>=2.4.1 in /usr/local/lib/python3.7/dist-packages (from -r requirements.txt (line 16)) (2.7.0)\n",
            "Requirement already satisfied: pandas>=1.1.4 in /usr/local/lib/python3.7/dist-packages (from -r requirements.txt (line 20)) (1.1.5)\n",
            "Requirement already satisfied: seaborn>=0.11.0 in /usr/local/lib/python3.7/dist-packages (from -r requirements.txt (line 21)) (0.11.2)\n",
            "Requirement already satisfied: thop in /usr/local/lib/python3.7/dist-packages (from -r requirements.txt (line 37)) (0.0.31.post2005241907)\n",
            "Requirement already satisfied: pyparsing!=2.0.4,!=2.1.2,!=2.1.6,>=2.0.1 in /usr/local/lib/python3.7/dist-packages (from matplotlib>=3.2.2->-r requirements.txt (line 4)) (3.0.7)\n",
            "Requirement already satisfied: kiwisolver>=1.0.1 in /usr/local/lib/python3.7/dist-packages (from matplotlib>=3.2.2->-r requirements.txt (line 4)) (1.3.2)\n",
            "Requirement already satisfied: cycler>=0.10 in /usr/local/lib/python3.7/dist-packages (from matplotlib>=3.2.2->-r requirements.txt (line 4)) (0.11.0)\n",
            "Requirement already satisfied: python-dateutil>=2.1 in /usr/local/lib/python3.7/dist-packages (from matplotlib>=3.2.2->-r requirements.txt (line 4)) (2.8.2)\n",
            "Requirement already satisfied: idna<3,>=2.5 in /usr/local/lib/python3.7/dist-packages (from requests>=2.23.0->-r requirements.txt (line 9)) (2.10)\n",
            "Requirement already satisfied: chardet<4,>=3.0.2 in /usr/local/lib/python3.7/dist-packages (from requests>=2.23.0->-r requirements.txt (line 9)) (3.0.4)\n",
            "Requirement already satisfied: certifi>=2017.4.17 in /usr/local/lib/python3.7/dist-packages (from requests>=2.23.0->-r requirements.txt (line 9)) (2021.10.8)\n",
            "Requirement already satisfied: urllib3!=1.25.0,!=1.25.1,<1.26,>=1.21.1 in /usr/local/lib/python3.7/dist-packages (from requests>=2.23.0->-r requirements.txt (line 9)) (1.24.3)\n",
            "Requirement already satisfied: typing-extensions in /usr/local/lib/python3.7/dist-packages (from torch>=1.7.0->-r requirements.txt (line 11)) (3.10.0.2)\n",
            "Requirement already satisfied: werkzeug>=0.11.15 in /usr/local/lib/python3.7/dist-packages (from tensorboard>=2.4.1->-r requirements.txt (line 16)) (1.0.1)\n",
            "Requirement already satisfied: protobuf>=3.6.0 in /usr/local/lib/python3.7/dist-packages (from tensorboard>=2.4.1->-r requirements.txt (line 16)) (3.17.3)\n",
            "Requirement already satisfied: google-auth-oauthlib<0.5,>=0.4.1 in /usr/local/lib/python3.7/dist-packages (from tensorboard>=2.4.1->-r requirements.txt (line 16)) (0.4.6)\n",
            "Requirement already satisfied: tensorboard-plugin-wit>=1.6.0 in /usr/local/lib/python3.7/dist-packages (from tensorboard>=2.4.1->-r requirements.txt (line 16)) (1.8.1)\n",
            "Requirement already satisfied: grpcio>=1.24.3 in /usr/local/lib/python3.7/dist-packages (from tensorboard>=2.4.1->-r requirements.txt (line 16)) (1.43.0)\n",
            "Requirement already satisfied: absl-py>=0.4 in /usr/local/lib/python3.7/dist-packages (from tensorboard>=2.4.1->-r requirements.txt (line 16)) (1.0.0)\n",
            "Requirement already satisfied: markdown>=2.6.8 in /usr/local/lib/python3.7/dist-packages (from tensorboard>=2.4.1->-r requirements.txt (line 16)) (3.3.6)\n",
            "Requirement already satisfied: tensorboard-data-server<0.7.0,>=0.6.0 in /usr/local/lib/python3.7/dist-packages (from tensorboard>=2.4.1->-r requirements.txt (line 16)) (0.6.1)\n",
            "Requirement already satisfied: setuptools>=41.0.0 in /usr/local/lib/python3.7/dist-packages (from tensorboard>=2.4.1->-r requirements.txt (line 16)) (57.4.0)\n",
            "Requirement already satisfied: google-auth<3,>=1.6.3 in /usr/local/lib/python3.7/dist-packages (from tensorboard>=2.4.1->-r requirements.txt (line 16)) (1.35.0)\n",
            "Requirement already satisfied: wheel>=0.26 in /usr/local/lib/python3.7/dist-packages (from tensorboard>=2.4.1->-r requirements.txt (line 16)) (0.37.1)\n",
            "Requirement already satisfied: pytz>=2017.2 in /usr/local/lib/python3.7/dist-packages (from pandas>=1.1.4->-r requirements.txt (line 20)) (2018.9)\n",
            "Requirement already satisfied: six in /usr/local/lib/python3.7/dist-packages (from absl-py>=0.4->tensorboard>=2.4.1->-r requirements.txt (line 16)) (1.15.0)\n",
            "Requirement already satisfied: cachetools<5.0,>=2.0.0 in /usr/local/lib/python3.7/dist-packages (from google-auth<3,>=1.6.3->tensorboard>=2.4.1->-r requirements.txt (line 16)) (4.2.4)\n",
            "Requirement already satisfied: pyasn1-modules>=0.2.1 in /usr/local/lib/python3.7/dist-packages (from google-auth<3,>=1.6.3->tensorboard>=2.4.1->-r requirements.txt (line 16)) (0.2.8)\n",
            "Requirement already satisfied: rsa<5,>=3.1.4 in /usr/local/lib/python3.7/dist-packages (from google-auth<3,>=1.6.3->tensorboard>=2.4.1->-r requirements.txt (line 16)) (4.8)\n",
            "Requirement already satisfied: requests-oauthlib>=0.7.0 in /usr/local/lib/python3.7/dist-packages (from google-auth-oauthlib<0.5,>=0.4.1->tensorboard>=2.4.1->-r requirements.txt (line 16)) (1.3.0)\n",
            "Requirement already satisfied: importlib-metadata>=4.4 in /usr/local/lib/python3.7/dist-packages (from markdown>=2.6.8->tensorboard>=2.4.1->-r requirements.txt (line 16)) (4.10.1)\n",
            "Requirement already satisfied: zipp>=0.5 in /usr/local/lib/python3.7/dist-packages (from importlib-metadata>=4.4->markdown>=2.6.8->tensorboard>=2.4.1->-r requirements.txt (line 16)) (3.7.0)\n",
            "Requirement already satisfied: pyasn1<0.5.0,>=0.4.6 in /usr/local/lib/python3.7/dist-packages (from pyasn1-modules>=0.2.1->google-auth<3,>=1.6.3->tensorboard>=2.4.1->-r requirements.txt (line 16)) (0.4.8)\n",
            "Requirement already satisfied: oauthlib>=3.0.0 in /usr/local/lib/python3.7/dist-packages (from requests-oauthlib>=0.7.0->google-auth-oauthlib<0.5,>=0.4.1->tensorboard>=2.4.1->-r requirements.txt (line 16)) (3.1.1)\n"
          ]
        }
      ]
    },
    {
      "cell_type": "code",
      "source": [
        "%cd /content\n",
        "!git clone https://github.com/ultralytics/yolov5.git"
      ],
      "metadata": {
        "colab": {
          "base_uri": "https://localhost:8080/"
        },
        "id": "2Sekl7GhN-AV",
        "outputId": "8485a88b-9ade-44d8-9fcd-51702a96fc41"
      },
      "execution_count": null,
      "outputs": [
        {
          "output_type": "stream",
          "name": "stdout",
          "text": [
            "/content\n",
            "fatal: destination path 'yolov5' already exists and is not an empty directory.\n"
          ]
        }
      ]
    },
    {
      "cell_type": "code",
      "source": [
        "import torch\n",
        "from yolov5 import utils\n",
        "display = utils.notebook_init()  # checks"
      ],
      "metadata": {
        "colab": {
          "base_uri": "https://localhost:8080/"
        },
        "id": "6C7UrLx42rSl",
        "outputId": "38617bc7-4df4-4800-9b68-0e6ee2638b23"
      },
      "execution_count": null,
      "outputs": [
        {
          "output_type": "stream",
          "name": "stderr",
          "text": [
            "YOLOv5 🚀 v6.0-218-g7539cd7 torch 1.10.0+cu111 CPU\n"
          ]
        },
        {
          "output_type": "stream",
          "name": "stdout",
          "text": [
            "Setup complete ✅ (2 CPUs, 12.7 GB RAM, 42.0/107.7 GB disk)\n"
          ]
        }
      ]
    },
    {
      "cell_type": "code",
      "source": [
        "!apt install fonts-namu -y\n",
        "\n",
        "import matplotlib\n",
        "import matplotlib.pyplot as plt\n",
        "import matplotlib.font_manager as fm\n",
        "\n",
        "#한글 폰트 설정하기\n",
        "fontpath = '/usr/share/fonts/truetype/nanum/NanumBarunGothic.ttf'\n",
        "font = fm.FontProperties(fname=fontpath, size=10)\n",
        "plt.rc('font', family='NanumBarunGothic')\n",
        "matplotlib.font_manager._rebuild()"
      ],
      "metadata": {
        "colab": {
          "base_uri": "https://localhost:8080/"
        },
        "id": "u61akaxnwt1B",
        "outputId": "00504ba2-e148-499e-d26e-ce654677b142"
      },
      "execution_count": null,
      "outputs": [
        {
          "output_type": "stream",
          "name": "stdout",
          "text": [
            "Reading package lists... Done\n",
            "Building dependency tree       \n",
            "Reading state information... Done\n",
            "E: Unable to locate package fonts-namu\n"
          ]
        },
        {
          "output_type": "stream",
          "name": "stderr",
          "text": [
            "generated new fontManager\n"
          ]
        }
      ]
    },
    {
      "cell_type": "markdown",
      "source": [
        "### 1. 학습이미지 수집\n",
        "  수집한 이미지를 저장하기 위한 폴더를 생성하고 필요한 함수를 정의해야 한다.\n",
        "\n",
        "  #os.path와 관련된 다양한 조작 코드 참조\n",
        "  https://docs.python.org/ko/3/library/os.path.html\n",
        "\n",
        "  #shutil-고수준 파일 연산 관련 파일\n",
        "  https://docs.python.org/ko/3/library/shutil.html"
      ],
      "metadata": {
        "id": "u90SSuxhyhlg"
      }
    },
    {
      "cell_type": "code",
      "source": [
        "import os\n",
        "import shutil\n",
        "\n",
        "directory_list = [\n",
        "    './custom_dataset/train/',\n",
        "    './custom_dataset/test/',\n",
        "]\n",
        "\n",
        "# 초기 디렉토리 만들기\n",
        "for directory in directory_list:\n",
        "    if not os.path.isdir(directory):\n",
        "        os.makedirs(directory)\n",
        "\n",
        "# 수집한 이미지를 학습 데이터와 평가 데이터로 구분하는 함수\n",
        "def dataset_split(query, train_cnt):\n",
        "    # 학습 및 평가 데이터셋 디렉토리 만들기\n",
        "    for directory in directory_list:\n",
        "        if not os.path.isdir(directory + '/' + query):\n",
        "            os.makedirs(directory + '/' + query)\n",
        "    # 학습 및 평가 데이터셋 준비하기\n",
        "    cnt = 0\n",
        "    for file_name in os.listdir(query):\n",
        "        if cnt < train_cnt:\n",
        "            print(f'[Train Dataset] {file_name}')\n",
        "            shutil.move(query + '/' + file_name, './custom_dataset/train/' + query + '/' + file_name)\n",
        "        else:\n",
        "            print(f'[Test Dataset] {file_name}')\n",
        "            shutil.move(query + '/' + file_name, './custom_dataset/test/' + query + '/' + file_name)\n",
        "        cnt += 1\n",
        "    shutil.rmtree(query)"
      ],
      "metadata": {
        "id": "vaoRyFk0yxaX"
      },
      "execution_count": 37,
      "outputs": []
    },
    {
      "cell_type": "markdown",
      "source": [
        "##이미지 가져오기\n"
      ],
      "metadata": {
        "id": "3kDY2_Y_3t0R"
      }
    },
    {
      "cell_type": "markdown",
      "source": [
        "###우리가 가진 data의 내용 확인해보기\n",
        "일단 보니까 bounding box가 여러개 있고, 그에 따른 category_id가 정해져있음을 알 수 있음"
      ],
      "metadata": {
        "id": "da1Jn91K7e4R"
      }
    },
    {
      "cell_type": "code",
      "source": [
        "%cat /content/dataset/labels/livestock_cow_bbox_000001.txt"
      ],
      "metadata": {
        "colab": {
          "base_uri": "https://localhost:8080/"
        },
        "id": "jvaehX166q-H",
        "outputId": "e4c64a2f-de67-40f2-f2b3-680ccf529ebb"
      },
      "execution_count": 16,
      "outputs": [
        {
          "output_type": "stream",
          "name": "stdout",
          "text": [
            "0 0.246354 0.496296 0.338934 0.627318\n",
            "0 0.825000 0.468519 0.882383 0.626418\n",
            "0 0.881771 0.506481 0.983395 0.735642\n",
            "0 0.520833 0.398148 0.577854 0.512594\n"
          ]
        }
      ]
    },
    {
      "cell_type": "code",
      "source": [
        "%cat /content/dataset/livestock_data.yaml"
      ],
      "metadata": {
        "colab": {
          "base_uri": "https://localhost:8080/"
        },
        "id": "GlpwmErje6nT",
        "outputId": "cb3e1ef6-545f-4595-8791-1266b4d833fe"
      },
      "execution_count": 2,
      "outputs": [
        {
          "output_type": "stream",
          "name": "stdout",
          "text": [
            "cat: /content/dataset/livestock_data.yaml: No such file or directory\n"
          ]
        }
      ]
    },
    {
      "cell_type": "code",
      "source": [
        "%cd /\n",
        "#glob을 이용해서 dir에 있는 * 또는 ? 파일들을 불러오는 역할을 함\n",
        "from glob import glob \n",
        "img_list= glob('/content/dataset/images/livestock_*.jpg')\n",
        "\n",
        "print(len(img_list))"
      ],
      "metadata": {
        "colab": {
          "base_uri": "https://localhost:8080/"
        },
        "id": "EjSp_zOL7vBk",
        "outputId": "6ddff039-071a-4b84-844b-6ecdb5d6b3ed"
      },
      "execution_count": 3,
      "outputs": [
        {
          "output_type": "stream",
          "name": "stdout",
          "text": [
            "/\n",
            "200\n"
          ]
        }
      ]
    },
    {
      "cell_type": "markdown",
      "source": [
        "###배열 또는 행렬을 무작위 학습 및 테스트 하위 집합으로 분할시키는 코드이다. 참고!!\n",
        "\n",
        "https://scikit-learn.org/stable/modules/generated/sklearn.model_selection.train_test_split.html"
      ],
      "metadata": {
        "id": "8oisz2qhA7G2"
      }
    },
    {
      "cell_type": "code",
      "source": [
        "#이제 트레이닝 세트와 테스트셋으로 나눕니다.\n",
        "from sklearn.model_selection import train_test_split \n",
        "\n",
        "train_img_list, val_img_list = train_test_split(img_list, test_size=0.2, random_state=20)\n",
        "\n",
        "print(len(train_img_list), len(val_img_list))"
      ],
      "metadata": {
        "colab": {
          "base_uri": "https://localhost:8080/"
        },
        "id": "JIelC-71_sbw",
        "outputId": "fb7ed07d-2ad4-497b-accb-23380f4cfb68"
      },
      "execution_count": 4,
      "outputs": [
        {
          "output_type": "stream",
          "name": "stdout",
          "text": [
            "160 40\n"
          ]
        }
      ]
    },
    {
      "cell_type": "code",
      "source": [
        "with open('/content/dataset/train.txt','w') as f:\n",
        "  f.write('\\n'.join(train_img_list)+'\\n')\n",
        "\n",
        "with open('/content/dataset/val.txt','w') as f:\n",
        "  f.write('\\n'.join(val_img_list)+'\\n')\n",
        "\n",
        "\n",
        "\n",
        "#자 이렇게 하면 나눠졌어여!!\n"
      ],
      "metadata": {
        "id": "ex361XxX_u5r"
      },
      "execution_count": 5,
      "outputs": []
    },
    {
      "cell_type": "markdown",
      "source": [
        "data yaml파일에는 클래스 이름들과 클래스 개수 그리고 train과 valid set의 주소가 적혀있다. ..여기에 이걸 잘 넣어주어야 함!"
      ],
      "metadata": {
        "id": "mIErP52aHuyj"
      }
    },
    {
      "cell_type": "code",
      "source": [
        "import yaml\n",
        "\n",
        "with open('/content/dataset/data.yaml','r') as f:\n",
        "  data=yaml.load(f)\n",
        "\n",
        "print(data)\n",
        "data['train']='/content/dataset/train.txt'\n",
        "data['val']='/content/dataset/val.txt'\n",
        "\n",
        "with open('/content/dataset/livestock_data.yaml', 'w') as f:\n",
        "  yaml.dump(data,f)\n",
        "\n",
        "print(data)"
      ],
      "metadata": {
        "colab": {
          "base_uri": "https://localhost:8080/"
        },
        "id": "17x6S_EcjvJT",
        "outputId": "09488167-cbee-44cd-e885-c3b90471349b"
      },
      "execution_count": 8,
      "outputs": [
        {
          "output_type": "stream",
          "name": "stdout",
          "text": [
            "{'train': '/content/dataset/train.txt', 'val': '/content/dataset/val.txt', 'nc': 2, 'names': ['pig', 'cow']}\n",
            "{'train': '/content/dataset/train.txt', 'val': '/content/dataset/val.txt', 'nc': 2, 'names': ['pig', 'cow']}\n"
          ]
        },
        {
          "output_type": "stream",
          "name": "stderr",
          "text": [
            "/usr/local/lib/python3.7/dist-packages/ipykernel_launcher.py:4: YAMLLoadWarning: calling yaml.load() without Loader=... is deprecated, as the default Loader is unsafe. Please read https://msg.pyyaml.org/load for full details.\n",
            "  after removing the cwd from sys.path.\n"
          ]
        }
      ]
    },
    {
      "cell_type": "code",
      "source": [
        "import json\n",
        "\n",
        "for i in range(1,101):\n",
        "    num = str(i).zfill(4)\n",
        "    with open('/content/dataset/images/livestock_cow_bbox_00' + num + '.json', 'r') as f:\n",
        "        json_data = json.load(f)\n",
        "        label_info = json_data['label_info']\n",
        "\n",
        "        image_name = label_info['image']['file_name'] # 이미지 파일명\n",
        "        image_width = label_info['image']['width'] # 이미지 넓이\n",
        "        image_height = label_info['image']['height'] # 이미지 높이\n",
        "        annotations =  label_info['annotations']\n",
        "        image_name = image_name.replace(\".jpg\", \"\")\n",
        "        file = open(\"/content/dataset/labels/\"+image_name + \".txt\", \"w\")\n",
        "        for annot in annotations:\n",
        "            x1, y1, x2, y2 = annot['bbox'] # 객체 1개의 bbox 위치 좌표\n",
        "            x1 = x1/image_width\n",
        "            y1 = y1/image_height\n",
        "            x2 = (x2-x1)/image_width\n",
        "            y2 = (y2-y1)/image_height\n",
        "            file.write(f\"1 {x1:f} {y1:f} {x2:f} {y2:f}\\n\")\n",
        "        file.close()\n"
      ],
      "metadata": {
        "id": "0SYQfnhwBamc"
      },
      "execution_count": 21,
      "outputs": []
    },
    {
      "cell_type": "code",
      "source": [
        "import json\n",
        "\n",
        "for i in range(1,101):\n",
        "    num = str(i).zfill(4)\n",
        "    with open('/content/dataset/images/livestock_pig_bbox_00' + num + '.json', 'r') as f:\n",
        "        json_data = json.load(f)\n",
        "        label_info = json_data['label_info']\n",
        "\n",
        "        image_name = label_info['image']['file_name'] # 이미지 파일명\n",
        "        image_width = label_info['image']['width'] # 이미지 넓이\n",
        "        image_height = label_info['image']['height'] # 이미지 높이\n",
        "        annotations =  label_info['annotations']\n",
        "        image_name = image_name.replace(\".jpg\", \"\")\n",
        "        file = open(\"/content/dataset/labels/\"+image_name + \".txt\", \"w\")\n",
        "        for annot in annotations:\n",
        "            x1, y1, x2, y2 = annot['bbox'] # 객체 1개의 bbox 위치 좌표\n",
        "            x1 = x1/image_width\n",
        "            y1 = y1/image_height\n",
        "            x2 = (x2-x1)/image_width\n",
        "            y2 = (y2-y1)/image_height\n",
        "            file.write(f\"0 {x1:f} {y1:f} {x2:f} {y2:f}\\n\")\n",
        "        file.close()"
      ],
      "metadata": {
        "id": "dL9ElfVknOMm"
      },
      "execution_count": 20,
      "outputs": []
    },
    {
      "cell_type": "code",
      "source": [
        "%cd /content/yolov5/\n",
        "\n",
        "\n",
        "!python train.py --img 40 --batch 16 --epochs 10 --data /content/dataset/livestock_data.yaml --cfg ./models/yolov5s.yaml --weights yolov5s.pt --name yolov5_results\n"
      ],
      "metadata": {
        "colab": {
          "base_uri": "https://localhost:8080/"
        },
        "id": "nJJS1-FWM_gA",
        "outputId": "35768a35-9836-40b6-fb2e-b59a9a0de4c2"
      },
      "execution_count": 18,
      "outputs": [
        {
          "output_type": "stream",
          "name": "stdout",
          "text": [
            "/content/yolov5\n",
            "\u001b[34m\u001b[1mtrain: \u001b[0mweights=yolov5s.pt, cfg=./models/yolov5s.yaml, data=/content/dataset/livestock_data.yaml, hyp=data/hyps/hyp.scratch.yaml, epochs=10, batch_size=16, imgsz=40, rect=False, resume=False, nosave=False, noval=False, noautoanchor=False, evolve=None, bucket=, cache=None, image_weights=False, device=, multi_scale=False, single_cls=False, optimizer=SGD, sync_bn=False, workers=8, project=runs/train, name=yolov5_results, exist_ok=False, quad=False, linear_lr=False, label_smoothing=0.0, patience=100, freeze=[0], save_period=-1, local_rank=-1, entity=None, upload_dataset=False, bbox_interval=-1, artifact_alias=latest\n",
            "\u001b[34m\u001b[1mgithub: \u001b[0mup to date with https://github.com/ultralytics/yolov5 ✅\n",
            "YOLOv5 🚀 v6.0-218-g7539cd7 torch 1.10.0+cu111 CPU\n",
            "\n",
            "\u001b[34m\u001b[1mhyperparameters: \u001b[0mlr0=0.01, lrf=0.1, momentum=0.937, weight_decay=0.0005, warmup_epochs=3.0, warmup_momentum=0.8, warmup_bias_lr=0.1, box=0.05, cls=0.5, cls_pw=1.0, obj=1.0, obj_pw=1.0, iou_t=0.2, anchor_t=4.0, fl_gamma=0.0, hsv_h=0.015, hsv_s=0.7, hsv_v=0.4, degrees=0.0, translate=0.1, scale=0.5, shear=0.0, perspective=0.0, flipud=0.0, fliplr=0.5, mosaic=1.0, mixup=0.0, copy_paste=0.0\n",
            "\u001b[34m\u001b[1mWeights & Biases: \u001b[0mrun 'pip install wandb' to automatically track and visualize YOLOv5 🚀 runs (RECOMMENDED)\n",
            "\u001b[34m\u001b[1mTensorBoard: \u001b[0mStart with 'tensorboard --logdir runs/train', view at http://localhost:6006/\n",
            "Overriding model.yaml nc=80 with nc=2\n",
            "\n",
            "                 from  n    params  module                                  arguments                     \n",
            "  0                -1  1      3520  models.common.Conv                      [3, 32, 6, 2, 2]              \n",
            "  1                -1  1     18560  models.common.Conv                      [32, 64, 3, 2]                \n",
            "  2                -1  1     18816  models.common.C3                        [64, 64, 1]                   \n",
            "  3                -1  1     73984  models.common.Conv                      [64, 128, 3, 2]               \n",
            "  4                -1  2    115712  models.common.C3                        [128, 128, 2]                 \n",
            "  5                -1  1    295424  models.common.Conv                      [128, 256, 3, 2]              \n",
            "  6                -1  3    625152  models.common.C3                        [256, 256, 3]                 \n",
            "  7                -1  1   1180672  models.common.Conv                      [256, 512, 3, 2]              \n",
            "  8                -1  1   1182720  models.common.C3                        [512, 512, 1]                 \n",
            "  9                -1  1    656896  models.common.SPPF                      [512, 512, 5]                 \n",
            " 10                -1  1    131584  models.common.Conv                      [512, 256, 1, 1]              \n",
            " 11                -1  1         0  torch.nn.modules.upsampling.Upsample    [None, 2, 'nearest']          \n",
            " 12           [-1, 6]  1         0  models.common.Concat                    [1]                           \n",
            " 13                -1  1    361984  models.common.C3                        [512, 256, 1, False]          \n",
            " 14                -1  1     33024  models.common.Conv                      [256, 128, 1, 1]              \n",
            " 15                -1  1         0  torch.nn.modules.upsampling.Upsample    [None, 2, 'nearest']          \n",
            " 16           [-1, 4]  1         0  models.common.Concat                    [1]                           \n",
            " 17                -1  1     90880  models.common.C3                        [256, 128, 1, False]          \n",
            " 18                -1  1    147712  models.common.Conv                      [128, 128, 3, 2]              \n",
            " 19          [-1, 14]  1         0  models.common.Concat                    [1]                           \n",
            " 20                -1  1    296448  models.common.C3                        [256, 256, 1, False]          \n",
            " 21                -1  1    590336  models.common.Conv                      [256, 256, 3, 2]              \n",
            " 22          [-1, 10]  1         0  models.common.Concat                    [1]                           \n",
            " 23                -1  1   1182720  models.common.C3                        [512, 512, 1, False]          \n",
            " 24      [17, 20, 23]  1     18879  models.yolo.Detect                      [2, [[10, 13, 16, 30, 33, 23], [30, 61, 62, 45, 59, 119], [116, 90, 156, 198, 373, 326]], [128, 256, 512]]\n",
            "Model Summary: 270 layers, 7025023 parameters, 7025023 gradients, 15.9 GFLOPs\n",
            "\n",
            "Transferred 342/349 items from yolov5s.pt\n",
            "WARNING: --img-size 40 must be multiple of max stride 32, updating to 64\n",
            "Scaled weight_decay = 0.0005\n",
            "\u001b[34m\u001b[1moptimizer:\u001b[0m SGD with parameter groups 57 weight (no decay), 60 weight, 60 bias\n",
            "\u001b[34m\u001b[1malbumentations: \u001b[0mversion 1.0.3 required by YOLOv5, but version 0.1.12 is currently installed\n",
            "\u001b[34m\u001b[1mtrain: \u001b[0mScanning '/content/dataset/train' images and labels...160 found, 0 missing, 0 empty, 35 corrupt: 100% 160/160 [00:00<00:00, 1219.15it/s]\n",
            "\u001b[34m\u001b[1mtrain: \u001b[0mWARNING: /content/dataset/images/livestock_pig_bbox_000002.jpg: ignoring corrupt image/label: negative label values [  -0.000926   -0.000926]\n",
            "\u001b[34m\u001b[1mtrain: \u001b[0mWARNING: /content/dataset/images/livestock_pig_bbox_000005.jpg: ignoring corrupt image/label: negative label values [  -0.000926   -0.000926]\n",
            "\u001b[34m\u001b[1mtrain: \u001b[0mWARNING: /content/dataset/images/livestock_pig_bbox_000006.jpg: ignoring corrupt image/label: negative label values [  -0.001852]\n",
            "\u001b[34m\u001b[1mtrain: \u001b[0mWARNING: /content/dataset/images/livestock_pig_bbox_000007.jpg: ignoring corrupt image/label: non-normalized or out of bounds coordinates [     1.0003]\n",
            "\u001b[34m\u001b[1mtrain: \u001b[0mWARNING: /content/dataset/images/livestock_pig_bbox_000008.jpg: ignoring corrupt image/label: negative label values [  -0.001852]\n",
            "\u001b[34m\u001b[1mtrain: \u001b[0mWARNING: /content/dataset/images/livestock_pig_bbox_000009.jpg: ignoring corrupt image/label: negative label values [  -0.000926]\n",
            "\u001b[34m\u001b[1mtrain: \u001b[0mWARNING: /content/dataset/images/livestock_pig_bbox_000017.jpg: ignoring corrupt image/label: negative label values [  -0.000926]\n",
            "\u001b[34m\u001b[1mtrain: \u001b[0mWARNING: /content/dataset/images/livestock_pig_bbox_000024.jpg: ignoring corrupt image/label: negative label values [  -0.000926]\n",
            "\u001b[34m\u001b[1mtrain: \u001b[0mWARNING: /content/dataset/images/livestock_pig_bbox_000033.jpg: ignoring corrupt image/label: negative label values [  -0.000926   -0.003704   -0.000926]\n",
            "\u001b[34m\u001b[1mtrain: \u001b[0mWARNING: /content/dataset/images/livestock_pig_bbox_000034.jpg: ignoring corrupt image/label: negative label values [  -0.000926]\n",
            "\u001b[34m\u001b[1mtrain: \u001b[0mWARNING: /content/dataset/images/livestock_pig_bbox_000035.jpg: ignoring corrupt image/label: negative label values [  -0.000926]\n",
            "\u001b[34m\u001b[1mtrain: \u001b[0mWARNING: /content/dataset/images/livestock_pig_bbox_000038.jpg: ignoring corrupt image/label: negative label values [  -0.003704]\n",
            "\u001b[34m\u001b[1mtrain: \u001b[0mWARNING: /content/dataset/images/livestock_pig_bbox_000040.jpg: ignoring corrupt image/label: negative label values [  -0.000926]\n",
            "\u001b[34m\u001b[1mtrain: \u001b[0mWARNING: /content/dataset/images/livestock_pig_bbox_000041.jpg: ignoring corrupt image/label: negative label values [  -0.000926   -0.000926]\n",
            "\u001b[34m\u001b[1mtrain: \u001b[0mWARNING: /content/dataset/images/livestock_pig_bbox_000043.jpg: ignoring corrupt image/label: negative label values [  -0.000926]\n",
            "\u001b[34m\u001b[1mtrain: \u001b[0mWARNING: /content/dataset/images/livestock_pig_bbox_000044.jpg: ignoring corrupt image/label: negative label values [  -0.000926   -0.000926]\n",
            "\u001b[34m\u001b[1mtrain: \u001b[0mWARNING: /content/dataset/images/livestock_pig_bbox_000047.jpg: ignoring corrupt image/label: negative label values [  -0.001852   -0.008333]\n",
            "\u001b[34m\u001b[1mtrain: \u001b[0mWARNING: /content/dataset/images/livestock_pig_bbox_000048.jpg: ignoring corrupt image/label: negative label values [  -0.000926   -0.000926]\n",
            "\u001b[34m\u001b[1mtrain: \u001b[0mWARNING: /content/dataset/images/livestock_pig_bbox_000052.jpg: ignoring corrupt image/label: negative label values [  -0.000926]\n",
            "\u001b[34m\u001b[1mtrain: \u001b[0mWARNING: /content/dataset/images/livestock_pig_bbox_000053.jpg: ignoring corrupt image/label: negative label values [  -0.000926]\n",
            "\u001b[34m\u001b[1mtrain: \u001b[0mWARNING: /content/dataset/images/livestock_pig_bbox_000054.jpg: ignoring corrupt image/label: negative label values [  -0.000926]\n",
            "\u001b[34m\u001b[1mtrain: \u001b[0mWARNING: /content/dataset/images/livestock_pig_bbox_000059.jpg: ignoring corrupt image/label: negative label values [  -0.000926]\n",
            "\u001b[34m\u001b[1mtrain: \u001b[0mWARNING: /content/dataset/images/livestock_pig_bbox_000066.jpg: ignoring corrupt image/label: negative label values [  -0.000926   -0.000926]\n",
            "\u001b[34m\u001b[1mtrain: \u001b[0mWARNING: /content/dataset/images/livestock_pig_bbox_000071.jpg: ignoring corrupt image/label: negative label values [  -0.000926   -0.000926   -0.000926   -0.000926]\n",
            "\u001b[34m\u001b[1mtrain: \u001b[0mWARNING: /content/dataset/images/livestock_pig_bbox_000072.jpg: ignoring corrupt image/label: negative label values [  -0.000926]\n",
            "\u001b[34m\u001b[1mtrain: \u001b[0mWARNING: /content/dataset/images/livestock_pig_bbox_000074.jpg: ignoring corrupt image/label: negative label values [  -0.000926   -0.000926]\n",
            "\u001b[34m\u001b[1mtrain: \u001b[0mWARNING: /content/dataset/images/livestock_pig_bbox_000075.jpg: ignoring corrupt image/label: negative label values [  -0.000926   -0.000926]\n",
            "\u001b[34m\u001b[1mtrain: \u001b[0mWARNING: /content/dataset/images/livestock_pig_bbox_000076.jpg: ignoring corrupt image/label: negative label values [  -0.001852]\n",
            "\u001b[34m\u001b[1mtrain: \u001b[0mWARNING: /content/dataset/images/livestock_pig_bbox_000078.jpg: ignoring corrupt image/label: negative label values [  -0.000926]\n",
            "\u001b[34m\u001b[1mtrain: \u001b[0mWARNING: /content/dataset/images/livestock_pig_bbox_000080.jpg: ignoring corrupt image/label: negative label values [  -0.000926   -0.003704   -0.006481]\n",
            "\u001b[34m\u001b[1mtrain: \u001b[0mWARNING: /content/dataset/images/livestock_pig_bbox_000083.jpg: ignoring corrupt image/label: negative label values [  -0.000926]\n",
            "\u001b[34m\u001b[1mtrain: \u001b[0mWARNING: /content/dataset/images/livestock_pig_bbox_000091.jpg: ignoring corrupt image/label: negative label values [  -0.000926   -0.000926   -0.000926]\n",
            "\u001b[34m\u001b[1mtrain: \u001b[0mWARNING: /content/dataset/images/livestock_pig_bbox_000094.jpg: ignoring corrupt image/label: negative label values [  -0.000926]\n",
            "\u001b[34m\u001b[1mtrain: \u001b[0mWARNING: /content/dataset/images/livestock_pig_bbox_000097.jpg: ignoring corrupt image/label: negative label values [  -0.000926   -0.000926]\n",
            "\u001b[34m\u001b[1mtrain: \u001b[0mWARNING: /content/dataset/images/livestock_pig_bbox_000098.jpg: ignoring corrupt image/label: negative label values [  -0.000926   -0.000926]\n",
            "\u001b[34m\u001b[1mtrain: \u001b[0mNew cache created: /content/dataset/train.cache\n",
            "Traceback (most recent call last):\n",
            "  File \"train.py\", line 638, in <module>\n",
            "    main(opt)\n",
            "  File \"train.py\", line 535, in main\n",
            "    train(opt.hyp, opt, device, callbacks)\n",
            "  File \"train.py\", line 229, in train\n",
            "    assert mlc < nc, f'Label class {mlc} exceeds nc={nc} in {data}. Possible class labels are 0-{nc - 1}'\n",
            "AssertionError: Label class 13 exceeds nc=2 in /content/dataset/livestock_data.yaml. Possible class labels are 0-1\n"
          ]
        }
      ]
    },
    {
      "cell_type": "code",
      "source": [
        "\n",
        "from utils.plots import plot_results\n",
        "plot_results('path/to/results.csv') "
      ],
      "metadata": {
        "colab": {
          "base_uri": "https://localhost:8080/",
          "height": 367
        },
        "id": "ApBNoqixeFrE",
        "outputId": "d8d97fcd-e2e0-4fc1-f2dd-58a97df2bd5e"
      },
      "execution_count": 14,
      "outputs": [
        {
          "output_type": "error",
          "ename": "AssertionError",
          "evalue": "ignored",
          "traceback": [
            "\u001b[0;31m---------------------------------------------------------------------------\u001b[0m",
            "\u001b[0;31mAssertionError\u001b[0m                            Traceback (most recent call last)",
            "\u001b[0;32m<ipython-input-14-d93ab322114a>\u001b[0m in \u001b[0;36m<module>\u001b[0;34m()\u001b[0m\n\u001b[1;32m      1\u001b[0m \u001b[0;34m\u001b[0m\u001b[0m\n\u001b[1;32m      2\u001b[0m \u001b[0;32mfrom\u001b[0m \u001b[0mutils\u001b[0m\u001b[0;34m.\u001b[0m\u001b[0mplots\u001b[0m \u001b[0;32mimport\u001b[0m \u001b[0mplot_results\u001b[0m\u001b[0;34m\u001b[0m\u001b[0;34m\u001b[0m\u001b[0m\n\u001b[0;32m----> 3\u001b[0;31m \u001b[0mplot_results\u001b[0m\u001b[0;34m(\u001b[0m\u001b[0;34m'path/to/results.csv'\u001b[0m\u001b[0;34m)\u001b[0m\u001b[0;34m\u001b[0m\u001b[0;34m\u001b[0m\u001b[0m\n\u001b[0m",
            "\u001b[0;32m/content/yolov5/utils/plots.py\u001b[0m in \u001b[0;36mplot_results\u001b[0;34m(file, dir)\u001b[0m\n\u001b[1;32m    404\u001b[0m     \u001b[0max\u001b[0m \u001b[0;34m=\u001b[0m \u001b[0max\u001b[0m\u001b[0;34m.\u001b[0m\u001b[0mravel\u001b[0m\u001b[0;34m(\u001b[0m\u001b[0;34m)\u001b[0m\u001b[0;34m\u001b[0m\u001b[0;34m\u001b[0m\u001b[0m\n\u001b[1;32m    405\u001b[0m     \u001b[0mfiles\u001b[0m \u001b[0;34m=\u001b[0m \u001b[0mlist\u001b[0m\u001b[0;34m(\u001b[0m\u001b[0msave_dir\u001b[0m\u001b[0;34m.\u001b[0m\u001b[0mglob\u001b[0m\u001b[0;34m(\u001b[0m\u001b[0;34m'results*.csv'\u001b[0m\u001b[0;34m)\u001b[0m\u001b[0;34m)\u001b[0m\u001b[0;34m\u001b[0m\u001b[0;34m\u001b[0m\u001b[0m\n\u001b[0;32m--> 406\u001b[0;31m     \u001b[0;32massert\u001b[0m \u001b[0mlen\u001b[0m\u001b[0;34m(\u001b[0m\u001b[0mfiles\u001b[0m\u001b[0;34m)\u001b[0m\u001b[0;34m,\u001b[0m \u001b[0;34mf'No results.csv files found in {save_dir.resolve()}, nothing to plot.'\u001b[0m\u001b[0;34m\u001b[0m\u001b[0;34m\u001b[0m\u001b[0m\n\u001b[0m\u001b[1;32m    407\u001b[0m     \u001b[0;32mfor\u001b[0m \u001b[0mfi\u001b[0m\u001b[0;34m,\u001b[0m \u001b[0mf\u001b[0m \u001b[0;32min\u001b[0m \u001b[0menumerate\u001b[0m\u001b[0;34m(\u001b[0m\u001b[0mfiles\u001b[0m\u001b[0;34m)\u001b[0m\u001b[0;34m:\u001b[0m\u001b[0;34m\u001b[0m\u001b[0;34m\u001b[0m\u001b[0m\n\u001b[1;32m    408\u001b[0m         \u001b[0;32mtry\u001b[0m\u001b[0;34m:\u001b[0m\u001b[0;34m\u001b[0m\u001b[0;34m\u001b[0m\u001b[0m\n",
            "\u001b[0;31mAssertionError\u001b[0m: No results.csv files found in /content/yolov5/path/to, nothing to plot."
          ]
        }
      ]
    }
  ]
}